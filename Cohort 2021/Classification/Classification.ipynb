{
 "cells": [
  {
   "cell_type": "code",
   "execution_count": 1,
   "id": "feeaa09c-8488-4e62-96c4-3e8b6bc215ad",
   "metadata": {},
   "outputs": [],
   "source": [
    "\"\"\"\n",
    "Importing necessary libraries \n",
    "\"\"\"\n",
    "import pandas as pd\n",
    "import numpy as np\n",
    "import matplotlib.pyplot as plt \n",
    "import seaborn as sns \n",
    "%matplotlib inline\n",
    "import warnings\n",
    "warnings.filterwarnings('ignore')"
   ]
  },
  {
   "cell_type": "code",
   "execution_count": 2,
   "id": "957fdf88-bed5-476b-b761-c408e0618ede",
   "metadata": {},
   "outputs": [],
   "source": [
    "\"\"\"\n",
    "Reading the data \n",
    "\"\"\"\n",
    "df = pd.read_csv('AB_NYC_2019.csv')\n",
    "\n",
    "#creating a new dataframe consisting of relevant columns to be used for analysis\n",
    "bnb = df[['neighbourhood_group',\n",
    "'room_type',\n",
    "'latitude',\n",
    "'longitude',\n",
    "'price',\n",
    "'minimum_nights',\n",
    "'number_of_reviews',\n",
    "'reviews_per_month',\n",
    "'calculated_host_listings_count',\n",
    "'availability_365']]"
   ]
  },
  {
   "cell_type": "code",
   "execution_count": 3,
   "id": "fb13dc6d-b924-47eb-b9f2-02dc08cc8a46",
   "metadata": {},
   "outputs": [
    {
     "data": {
      "text/html": [
       "<div>\n",
       "<style scoped>\n",
       "    .dataframe tbody tr th:only-of-type {\n",
       "        vertical-align: middle;\n",
       "    }\n",
       "\n",
       "    .dataframe tbody tr th {\n",
       "        vertical-align: top;\n",
       "    }\n",
       "\n",
       "    .dataframe thead th {\n",
       "        text-align: right;\n",
       "    }\n",
       "</style>\n",
       "<table border=\"1\" class=\"dataframe\">\n",
       "  <thead>\n",
       "    <tr style=\"text-align: right;\">\n",
       "      <th></th>\n",
       "      <th>neighbourhood_group</th>\n",
       "      <th>room_type</th>\n",
       "      <th>latitude</th>\n",
       "      <th>longitude</th>\n",
       "      <th>price</th>\n",
       "      <th>minimum_nights</th>\n",
       "      <th>number_of_reviews</th>\n",
       "      <th>reviews_per_month</th>\n",
       "      <th>calculated_host_listings_count</th>\n",
       "      <th>availability_365</th>\n",
       "    </tr>\n",
       "  </thead>\n",
       "  <tbody>\n",
       "    <tr>\n",
       "      <th>0</th>\n",
       "      <td>Brooklyn</td>\n",
       "      <td>Private room</td>\n",
       "      <td>40.64749</td>\n",
       "      <td>-73.97237</td>\n",
       "      <td>149</td>\n",
       "      <td>1</td>\n",
       "      <td>9</td>\n",
       "      <td>0.21</td>\n",
       "      <td>6</td>\n",
       "      <td>365</td>\n",
       "    </tr>\n",
       "    <tr>\n",
       "      <th>1</th>\n",
       "      <td>Manhattan</td>\n",
       "      <td>Entire home/apt</td>\n",
       "      <td>40.75362</td>\n",
       "      <td>-73.98377</td>\n",
       "      <td>225</td>\n",
       "      <td>1</td>\n",
       "      <td>45</td>\n",
       "      <td>0.38</td>\n",
       "      <td>2</td>\n",
       "      <td>355</td>\n",
       "    </tr>\n",
       "    <tr>\n",
       "      <th>2</th>\n",
       "      <td>Manhattan</td>\n",
       "      <td>Private room</td>\n",
       "      <td>40.80902</td>\n",
       "      <td>-73.94190</td>\n",
       "      <td>150</td>\n",
       "      <td>3</td>\n",
       "      <td>0</td>\n",
       "      <td>NaN</td>\n",
       "      <td>1</td>\n",
       "      <td>365</td>\n",
       "    </tr>\n",
       "    <tr>\n",
       "      <th>3</th>\n",
       "      <td>Brooklyn</td>\n",
       "      <td>Entire home/apt</td>\n",
       "      <td>40.68514</td>\n",
       "      <td>-73.95976</td>\n",
       "      <td>89</td>\n",
       "      <td>1</td>\n",
       "      <td>270</td>\n",
       "      <td>4.64</td>\n",
       "      <td>1</td>\n",
       "      <td>194</td>\n",
       "    </tr>\n",
       "    <tr>\n",
       "      <th>4</th>\n",
       "      <td>Manhattan</td>\n",
       "      <td>Entire home/apt</td>\n",
       "      <td>40.79851</td>\n",
       "      <td>-73.94399</td>\n",
       "      <td>80</td>\n",
       "      <td>10</td>\n",
       "      <td>9</td>\n",
       "      <td>0.10</td>\n",
       "      <td>1</td>\n",
       "      <td>0</td>\n",
       "    </tr>\n",
       "  </tbody>\n",
       "</table>\n",
       "</div>"
      ],
      "text/plain": [
       "  neighbourhood_group        room_type  latitude  longitude  price  \\\n",
       "0            Brooklyn     Private room  40.64749  -73.97237    149   \n",
       "1           Manhattan  Entire home/apt  40.75362  -73.98377    225   \n",
       "2           Manhattan     Private room  40.80902  -73.94190    150   \n",
       "3            Brooklyn  Entire home/apt  40.68514  -73.95976     89   \n",
       "4           Manhattan  Entire home/apt  40.79851  -73.94399     80   \n",
       "\n",
       "   minimum_nights  number_of_reviews  reviews_per_month  \\\n",
       "0               1                  9               0.21   \n",
       "1               1                 45               0.38   \n",
       "2               3                  0                NaN   \n",
       "3               1                270               4.64   \n",
       "4              10                  9               0.10   \n",
       "\n",
       "   calculated_host_listings_count  availability_365  \n",
       "0                               6               365  \n",
       "1                               2               355  \n",
       "2                               1               365  \n",
       "3                               1               194  \n",
       "4                               1                 0  "
      ]
     },
     "execution_count": 3,
     "metadata": {},
     "output_type": "execute_result"
    }
   ],
   "source": [
    "\"\"\"\n",
    "Viewing the first 5 rows of the data\n",
    "\"\"\"\n",
    "bnb.head()"
   ]
  },
  {
   "cell_type": "code",
   "execution_count": 4,
   "id": "7d22157f-d9a4-471a-a353-ddb88bdac1a7",
   "metadata": {},
   "outputs": [
    {
     "data": {
      "text/plain": [
       "neighbourhood_group                object\n",
       "room_type                          object\n",
       "latitude                          float64\n",
       "longitude                         float64\n",
       "price                               int64\n",
       "minimum_nights                      int64\n",
       "number_of_reviews                   int64\n",
       "reviews_per_month                 float64\n",
       "calculated_host_listings_count      int64\n",
       "availability_365                    int64\n",
       "dtype: object"
      ]
     },
     "execution_count": 4,
     "metadata": {},
     "output_type": "execute_result"
    }
   ],
   "source": [
    "\"\"\"\n",
    "Checking the data types of the columns\n",
    "\"\"\"\n",
    "bnb.dtypes"
   ]
  },
  {
   "cell_type": "code",
   "execution_count": 5,
   "id": "2cd3ab10-f6ce-4fd2-82a2-dc5d13e3230d",
   "metadata": {},
   "outputs": [
    {
     "data": {
      "text/plain": [
       "neighbourhood_group                   0\n",
       "room_type                             0\n",
       "latitude                              0\n",
       "longitude                             0\n",
       "price                                 0\n",
       "minimum_nights                        0\n",
       "number_of_reviews                     0\n",
       "reviews_per_month                 10052\n",
       "calculated_host_listings_count        0\n",
       "availability_365                      0\n",
       "dtype: int64"
      ]
     },
     "execution_count": 5,
     "metadata": {},
     "output_type": "execute_result"
    }
   ],
   "source": [
    "\"\"\"\n",
    "Checking missing values\n",
    "\"\"\"\n",
    "bnb.isna().sum()"
   ]
  },
  {
   "cell_type": "markdown",
   "id": "a3836a1c-df76-42f5-a118-79c76d3ee313",
   "metadata": {},
   "source": [
    "Only the reviews per month column has missing values"
   ]
  },
  {
   "cell_type": "code",
   "execution_count": 6,
   "id": "1bbc2d16-5ad8-45f5-9cb3-242ac39e839f",
   "metadata": {},
   "outputs": [],
   "source": [
    "\"\"\"\n",
    "filling missing values with 0\n",
    "\"\"\"\n",
    "bnb['reviews_per_month'] = bnb['reviews_per_month'].fillna(0)"
   ]
  },
  {
   "cell_type": "code",
   "execution_count": 7,
   "id": "48d4f6ff-aaf8-499b-a96f-c1903e4a63d0",
   "metadata": {},
   "outputs": [
    {
     "name": "stdout",
     "output_type": "stream",
     "text": [
      "The most frequent neighborhood is Manhattan with a freqeuncy of  21661\n"
     ]
    }
   ],
   "source": [
    "\"\"\"\n",
    "The most frequent observation mode in neighborhood_group\n",
    "\"\"\"\n",
    "highest_neighborhood = bnb['neighbourhood_group'].mode()\n",
    "count_of_highest_neighborhood = len(bnb[bnb.neighbourhood_group=='Manhattan'])\n",
    "print(\"The most frequent neighborhood is\",  highest_neighborhood[0], \"with a freqeuncy of \", count_of_highest_neighborhood)"
   ]
  },
  {
   "cell_type": "code",
   "execution_count": 8,
   "id": "1ad31e76-c4fb-454c-8ba0-d6151aff754d",
   "metadata": {},
   "outputs": [
    {
     "data": {
      "text/plain": [
       "<AxesSubplot:>"
      ]
     },
     "execution_count": 8,
     "metadata": {},
     "output_type": "execute_result"
    },
    {
     "data": {
      "image/png": "[encoded data removed]",
      "text/plain": [
       "<Figure size 720x504 with 2 Axes>"
      ]
     },
     "metadata": {
      "needs_background": "light"
     },
     "output_type": "display_data"
    }
   ],
   "source": [
    "\"\"\"\n",
    "Creating correlation matrix of all numeric columns\n",
    "\"\"\"\n",
    "plt.figure(figsize=(10,7))\n",
    "#creating a list of all numerical columns\n",
    "numerical = ['latitude', 'longitude', 'minimum_nights',\t'number_of_reviews', \n",
    "             'reviews_per_month', 'calculated_host_listings_count', 'availability_365']\n",
    "#checking correlation\n",
    "correlation_matrix = bnb[numerical].corr()\n",
    "sns.heatmap(correlation_matrix, annot=True, cmap='viridis')"
   ]
  },
  {
   "cell_type": "markdown",
   "id": "f341b57a-58da-43e6-83dc-5d6f0ac6bf11",
   "metadata": {},
   "source": [
    "The two features with the highest correlation are 'reviews_per_month' and 'number_of_reviews'"
   ]
  },
  {
   "cell_type": "code",
   "execution_count": 9,
   "id": "f9155415-798f-417d-88ab-957e2ffa122e",
   "metadata": {},
   "outputs": [],
   "source": [
    "\"\"\"\n",
    "Creating above average variable \n",
    "\"\"\"\n",
    "bnb['above_average'] = (bnb['price'] >= 152 ).astype(int)\n",
    "bnb = bnb.drop('price', axis=1)"
   ]
  },
  {
   "cell_type": "code",
   "execution_count": 10,
   "id": "2f31bf13-4a62-40ad-be3f-c1b400537e24",
   "metadata": {},
   "outputs": [],
   "source": [
    "\"\"\"\n",
    "Splitting the data \n",
    "\"\"\"\n",
    "from sklearn.model_selection import train_test_split\n",
    "bnb_full_train, bnb_test = train_test_split(bnb, test_size=0.2, random_state=42)\n",
    "bnb_train, bnb_val = train_test_split(bnb_full_train, test_size=0.25, random_state=42)\n",
    "\n",
    "\"\"\"\n",
    "Extracting target variables from the splits\n",
    "\"\"\"\n",
    "y_train = bnb_train.above_average.values\n",
    "y_val = bnb_val.above_average.values\n",
    "y_test = bnb_test.above_average.values"
   ]
  },
  {
   "cell_type": "code",
   "execution_count": 11,
   "id": "c1fea3e0-f68e-4516-a82f-0aa202eca513",
   "metadata": {},
   "outputs": [],
   "source": [
    "\"\"\"\n",
    "Checking mutual info score of categorical variables \n",
    "\"\"\"\n",
    "#importing mutual_info_score\n",
    "from sklearn.metrics import mutual_info_score\n",
    "\n",
    "#creating a list of categorical columns\n",
    "categorical = ['neighbourhood_group','room_type']\n",
    "\n",
    "#This function computes the mutual info score between the price and a specifiec categorical column\n",
    "#params: pandas series\n",
    "#returns: mutual_info_score \n",
    "#rtype: float \n",
    "def mi(series):\n",
    "    return round(mutual_info_score(series, bnb_full_train['above_average']),2)\n"
   ]
  },
  {
   "cell_type": "code",
   "execution_count": 12,
   "id": "e17d0346-70a5-42c0-b124-bb012237e71a",
   "metadata": {},
   "outputs": [
    {
     "data": {
      "text/plain": [
       "neighbourhood_group    0.05\n",
       "room_type              0.14\n",
       "dtype: float64"
      ]
     },
     "execution_count": 12,
     "metadata": {},
     "output_type": "execute_result"
    }
   ],
   "source": [
    "\"\"\"\n",
    "Appplying the mi function to the categorical columns in the dataset\n",
    "\"\"\"\n",
    "bnb_full_train[categorical].apply(mi)"
   ]
  },
  {
   "cell_type": "markdown",
   "id": "fc4a5505-5442-4bf2-b3f2-7d03646eea7c",
   "metadata": {},
   "source": [
    "room_type has the higher mutual info score"
   ]
  },
  {
   "cell_type": "code",
   "execution_count": 13,
   "id": "11f3fac0-db8f-4f3e-ba44-4c4f4c7219db",
   "metadata": {},
   "outputs": [
    {
     "data": {
      "text/plain": [
       "'\\nAlternate method of preparing Data:\\nUsing StandardScaler and OneHotEncider\\n'"
      ]
     },
     "execution_count": 13,
     "metadata": {},
     "output_type": "execute_result"
    }
   ],
   "source": [
    "\"\"\"\n",
    "Alternate method of preparing Data:\n",
    "Using StandardScaler and OneHotEncider\n",
    "\"\"\"\n",
    "# \"\"\"\n",
    "# Training a Logistic Regression Model and fitting our train data\n",
    "# \"\"\"\n",
    "# from sklearn.linear_model import LogisticRegression\n",
    "# from sklearn.feature_extraction import DictVectorizer\n",
    "# from sklearn.preprocessing import OneHotEncoder\n",
    "# from sklearn.preprocessing import StandardScaler\n",
    "\n",
    "# #scaling the features\n",
    "# scaler = StandardScaler()\n",
    "# ohe = OneHotEncoder(sparse=False)\n",
    "# bnb_train_num = scaler.fit_transform(bnb_train[numerical])\n",
    "# bnb_train_cat = ohe.fit_transform(bnb_train[categorical])\n",
    "# X_train = np.column_stack([bnb_train_cat, bnb_train_num])\n",
    "\n",
    "# #creating an instance of the logistic regression model\n",
    "# model = LogisticRegression(solver='lbfgs', C=1.0, random_state=42)\n",
    "\n",
    "# #Training the model \n",
    "# model.fit(X_train, y_train)"
   ]
  },
  {
   "cell_type": "code",
   "execution_count": 14,
   "id": "6e6054dd-0546-4813-94a4-7836f468ee79",
   "metadata": {},
   "outputs": [
    {
     "data": {
      "text/plain": [
       "LogisticRegression(max_iter=1000, random_state=42)"
      ]
     },
     "execution_count": 14,
     "metadata": {},
     "output_type": "execute_result"
    }
   ],
   "source": [
    "\"\"\"\n",
    "Training a Logistic Regression Model and fitting our train data\n",
    "\"\"\"\n",
    "from sklearn.linear_model import LogisticRegression\n",
    "from sklearn.feature_extraction import DictVectorizer\n",
    "\n",
    "#DictVectorizer performs one hot enconding on categorical columns\n",
    "dv = DictVectorizer()\n",
    "\n",
    "#convert train data to dictionary\n",
    "train_dict = bnb_train[numerical + categorical].to_dict(orient='records')\n",
    "\n",
    "#one hot encoding\n",
    "X_train = dv.fit_transform(train_dict)\n",
    "\n",
    "#creating an instance of the logistic regression model\n",
    "model = LogisticRegression(solver='lbfgs', C=1.0, random_state=42, max_iter=1000)\n",
    "\n",
    "#Training the model \n",
    "model.fit(X_train, y_train)"
   ]
  },
  {
   "cell_type": "code",
   "execution_count": 15,
   "id": "52ee002a-9bcd-4b81-a0cf-84297589da1a",
   "metadata": {},
   "outputs": [
    {
     "name": "stdout",
     "output_type": "stream",
     "text": [
      "0.79\n"
     ]
    }
   ],
   "source": [
    "\"\"\"\n",
    "Checking accuracy of the model on validation data set \n",
    "\"\"\"\n",
    "from sklearn.metrics import accuracy_score\n",
    "\n",
    "#convert train data to dictionary\n",
    "val_dict = bnb_val[numerical + categorical].to_dict(orient='records')\n",
    "\n",
    "#one hot encoding\n",
    "X_val = dv.transform(val_dict)\n",
    "\n",
    "#predicting for the validation data\n",
    "y_pred = model.predict(X_val)\n",
    "\n",
    "#checking the accuracy\n",
    "accuracy = round(accuracy_score(y_pred, y_val),2)\n",
    "print(accuracy)"
   ]
  },
  {
   "cell_type": "code",
   "execution_count": 16,
   "id": "f77aaebf-02f2-4878-8951-e709d4de2558",
   "metadata": {},
   "outputs": [
    {
     "name": "stdout",
     "output_type": "stream",
     "text": [
      "neighbourhood_group: score: 0.7509970344616014 difference: 0.03900296553839866\n",
      "room_type: score: 0.7283975866653032 difference: 0.06160241333469685\n",
      "latitude: score: 0.7867880151344718 difference: 0.0032119848655282057\n",
      "longitude: score: 0.7869925350240311 difference: 0.003007464975968932\n",
      "minimum_nights: score: 0.7916964924838941 difference: -0.0016964924838940298\n",
      "number_of_reviews: score: 0.7911851927599959 difference: -0.0011851927599958456\n",
      "reviews_per_month: score: 0.7907761529808774 difference: -0.0007761529808774092\n",
      "calculated_host_listings_count: score: 0.7891399938644034 difference: 0.0008600061355966693\n",
      "availability_365: score: 0.7812659781163718 difference: 0.008734021883628262\n"
     ]
    }
   ],
   "source": [
    "\"\"\"\n",
    "Training and testing by feature omission\n",
    "\"\"\"\n",
    "real_score = accuracy\n",
    "columns = ['neighbourhood_group', 'room_type', 'latitude', 'longitude',\n",
    "           'minimum_nights','number_of_reviews','reviews_per_month',\n",
    "            'calculated_host_listings_count', 'availability_365']\n",
    "\n",
    "for c in columns:\n",
    "    cols = columns.copy()\n",
    "    cols.remove(c)\n",
    "    train_dict = bnb_train[cols].to_dict(orient='records')\n",
    "    X_train = dv.fit_transform(train_dict)\n",
    "    model = LogisticRegression(solver='lbfgs', C=1.0, random_state=42, max_iter=1000)\n",
    "    model.fit(X_train, y_train)\n",
    "    \n",
    "    val_dict = bnb_val[cols].to_dict(orient='records')\n",
    "    X_val = dv.transform(val_dict)\n",
    "    y_pred = model.predict(X_val)\n",
    "    \n",
    "    score = accuracy_score(y_pred, y_val)\n",
    "    print(c +':', 'score:', score, 'difference:', real_score - score )\n"
   ]
  },
  {
   "cell_type": "markdown",
   "id": "c2cef969-01a8-4241-8151-b1189b501b4f",
   "metadata": {},
   "source": [
    "The feature with the smallest differene is number_of_reviews"
   ]
  },
  {
   "cell_type": "code",
   "execution_count": 17,
   "id": "8eec3c4b-2f74-4c89-afb2-d368c4aabc60",
   "metadata": {},
   "outputs": [
    {
     "name": "stdout",
     "output_type": "stream",
     "text": [
      "The score for tune parameter 0 = 0.497\n",
      "The score for tune parameter 0.01 = 0.497\n",
      "The score for tune parameter 0.1 = 0.497\n",
      "The score for tune parameter 1 = 0.497\n",
      "The score for tune parameter 10 = 0.498\n"
     ]
    }
   ],
   "source": [
    "\"\"\"\n",
    "Using Ridge Regression to check accuracy\n",
    "\"\"\"\n",
    "df['price'] = np.log1p(df['price'])\n",
    "df = df.fillna(0)\n",
    "df_full_train, df_test = train_test_split(df, test_size=0.2, random_state=42)\n",
    "df_train, df_val = train_test_split(df_full_train, test_size=0.25, random_state=42)\n",
    "y_train = df_train['price'].values\n",
    "y_val = df_val['price'].values\n",
    "y_test = df_test['price'].values\n",
    "\n",
    "del df_train['price']\n",
    "del df_test['price']\n",
    "del df_val['price']\n",
    "\n",
    "dv = DictVectorizer(sparse=False)\n",
    "\n",
    "train_dict = df_train[numerical + categorical].to_dict(orient='records')\n",
    "\n",
    "X_train = dv.fit_transform(train_dict)\n",
    "\n",
    "val_dict = df_val[numerical + categorical].to_dict(orient='records')\n",
    "X_val = dv.transform(val_dict)\n",
    "\n",
    "from sklearn.linear_model import Ridge\n",
    "from sklearn.metrics import mean_squared_error\n",
    "mse = mean_squared_error\n",
    "\n",
    "tune_param = [0, 0.01, 0.1, 1, 10]\n",
    "for a in tune_param:    \n",
    "    model = Ridge(alpha=a)\n",
    "    model.fit(X_train, y_train)\n",
    "    y_pred = model.predict(X_val)    \n",
    "    score = np.sqrt(mse(y_pred, y_val))\n",
    "        \n",
    "    print(\"The score for tune parameter\", a, \"=\", round(score,3))\n",
    "\n",
    "\n"
   ]
  },
  {
   "cell_type": "markdown",
   "id": "7efda3d1-cec0-4ea4-816e-2572670db892",
   "metadata": {},
   "source": [
    "The alpha value with the smallest score is 0"
   ]
  }
 ],
 "metadata": {
  "kernelspec": {
   "display_name": "Python 3 (ipykernel)",
   "language": "python",
   "name": "python3"
  },
  "language_info": {
   "codemirror_mode": {
    "name": "ipython",
    "version": 3
   },
   "file_extension": ".py",
   "mimetype": "text/x-python",
   "name": "python",
   "nbconvert_exporter": "python",
   "pygments_lexer": "ipython3",
   "version": "3.9.7"
  }
 },
 "nbformat": 4,
 "nbformat_minor": 5
}
