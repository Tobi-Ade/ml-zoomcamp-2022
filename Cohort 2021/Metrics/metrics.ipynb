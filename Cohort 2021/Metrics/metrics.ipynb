{
 "cells": [
  {
   "cell_type": "code",
   "execution_count": 83,
   "id": "99435a71-6d1c-4867-9e68-57cd79e30653",
   "metadata": {},
   "outputs": [],
   "source": [
    "\"\"\"\n",
    "importing the necessary libraries\n",
    "\"\"\"\n",
    "import pandas as pd\n",
    "import numpy as np\n",
    "import matplotlib.pyplot as plt\n",
    "import seaborn as sns\n",
    "%matplotlib inline\n",
    "from sklearn.model_selection import train_test_split\n",
    "from sklearn.metrics import roc_auc_score\n",
    "from sklearn.linear_model import LogisticRegression\n",
    "from sklearn.feature_extraction import DictVectorizer"
   ]
  },
  {
   "cell_type": "code",
   "execution_count": 84,
   "id": "40fc7c5d-0271-486a-b464-71cd25914a3b",
   "metadata": {},
   "outputs": [],
   "source": [
    "\"\"\"\n",
    "Reading the data\n",
    "\"\"\"\n",
    "df = pd.read_csv('CreditScoring.csv') \n",
    "\n",
    "#normalizing column names\n",
    "df.columns = df.columns.str.lower()"
   ]
  },
  {
   "cell_type": "code",
   "execution_count": 85,
   "id": "e9cb80c3-9e37-49c9-83f5-bc6e4c72af3d",
   "metadata": {},
   "outputs": [
    {
     "data": {
      "text/html": [
       "<div>\n",
       "<style scoped>\n",
       "    .dataframe tbody tr th:only-of-type {\n",
       "        vertical-align: middle;\n",
       "    }\n",
       "\n",
       "    .dataframe tbody tr th {\n",
       "        vertical-align: top;\n",
       "    }\n",
       "\n",
       "    .dataframe thead th {\n",
       "        text-align: right;\n",
       "    }\n",
       "</style>\n",
       "<table border=\"1\" class=\"dataframe\">\n",
       "  <thead>\n",
       "    <tr style=\"text-align: right;\">\n",
       "      <th></th>\n",
       "      <th>status</th>\n",
       "      <th>seniority</th>\n",
       "      <th>home</th>\n",
       "      <th>time</th>\n",
       "      <th>age</th>\n",
       "      <th>marital</th>\n",
       "      <th>records</th>\n",
       "      <th>job</th>\n",
       "      <th>expenses</th>\n",
       "      <th>income</th>\n",
       "      <th>assets</th>\n",
       "      <th>debt</th>\n",
       "      <th>amount</th>\n",
       "      <th>price</th>\n",
       "    </tr>\n",
       "  </thead>\n",
       "  <tbody>\n",
       "    <tr>\n",
       "      <th>0</th>\n",
       "      <td>1</td>\n",
       "      <td>9</td>\n",
       "      <td>1</td>\n",
       "      <td>60</td>\n",
       "      <td>30</td>\n",
       "      <td>2</td>\n",
       "      <td>1</td>\n",
       "      <td>3</td>\n",
       "      <td>73</td>\n",
       "      <td>129</td>\n",
       "      <td>0</td>\n",
       "      <td>0</td>\n",
       "      <td>800</td>\n",
       "      <td>846</td>\n",
       "    </tr>\n",
       "    <tr>\n",
       "      <th>1</th>\n",
       "      <td>1</td>\n",
       "      <td>17</td>\n",
       "      <td>1</td>\n",
       "      <td>60</td>\n",
       "      <td>58</td>\n",
       "      <td>3</td>\n",
       "      <td>1</td>\n",
       "      <td>1</td>\n",
       "      <td>48</td>\n",
       "      <td>131</td>\n",
       "      <td>0</td>\n",
       "      <td>0</td>\n",
       "      <td>1000</td>\n",
       "      <td>1658</td>\n",
       "    </tr>\n",
       "    <tr>\n",
       "      <th>2</th>\n",
       "      <td>2</td>\n",
       "      <td>10</td>\n",
       "      <td>2</td>\n",
       "      <td>36</td>\n",
       "      <td>46</td>\n",
       "      <td>2</td>\n",
       "      <td>2</td>\n",
       "      <td>3</td>\n",
       "      <td>90</td>\n",
       "      <td>200</td>\n",
       "      <td>3000</td>\n",
       "      <td>0</td>\n",
       "      <td>2000</td>\n",
       "      <td>2985</td>\n",
       "    </tr>\n",
       "    <tr>\n",
       "      <th>3</th>\n",
       "      <td>1</td>\n",
       "      <td>0</td>\n",
       "      <td>1</td>\n",
       "      <td>60</td>\n",
       "      <td>24</td>\n",
       "      <td>1</td>\n",
       "      <td>1</td>\n",
       "      <td>1</td>\n",
       "      <td>63</td>\n",
       "      <td>182</td>\n",
       "      <td>2500</td>\n",
       "      <td>0</td>\n",
       "      <td>900</td>\n",
       "      <td>1325</td>\n",
       "    </tr>\n",
       "    <tr>\n",
       "      <th>4</th>\n",
       "      <td>1</td>\n",
       "      <td>0</td>\n",
       "      <td>1</td>\n",
       "      <td>36</td>\n",
       "      <td>26</td>\n",
       "      <td>1</td>\n",
       "      <td>1</td>\n",
       "      <td>1</td>\n",
       "      <td>46</td>\n",
       "      <td>107</td>\n",
       "      <td>0</td>\n",
       "      <td>0</td>\n",
       "      <td>310</td>\n",
       "      <td>910</td>\n",
       "    </tr>\n",
       "  </tbody>\n",
       "</table>\n",
       "</div>"
      ],
      "text/plain": [
       "   status  seniority  home  time  age  marital  records  job  expenses  \\\n",
       "0       1          9     1    60   30        2        1    3        73   \n",
       "1       1         17     1    60   58        3        1    1        48   \n",
       "2       2         10     2    36   46        2        2    3        90   \n",
       "3       1          0     1    60   24        1        1    1        63   \n",
       "4       1          0     1    36   26        1        1    1        46   \n",
       "\n",
       "   income  assets  debt  amount  price  \n",
       "0     129       0     0     800    846  \n",
       "1     131       0     0    1000   1658  \n",
       "2     200    3000     0    2000   2985  \n",
       "3     182    2500     0     900   1325  \n",
       "4     107       0     0     310    910  "
      ]
     },
     "execution_count": 85,
     "metadata": {},
     "output_type": "execute_result"
    }
   ],
   "source": [
    "\"\"\"\n",
    "Checking first 5 rows \n",
    "\"\"\"\n",
    "df.head()"
   ]
  },
  {
   "cell_type": "code",
   "execution_count": 86,
   "id": "fa6a8be7-db64-4ba7-87ca-292f3ada341e",
   "metadata": {},
   "outputs": [],
   "source": [
    "\"\"\"\n",
    "Decoding categorical columns\n",
    "\"\"\"\n",
    "\n",
    "status_values = {\n",
    "    1: 'ok',\n",
    "    2: 'default',\n",
    "    0: 'unk'\n",
    "}\n",
    "\n",
    "df.status = df.status.map(status_values)\n",
    "\n",
    "\n",
    "home_values = {\n",
    "    1: 'rent',\n",
    "    2: 'owner',\n",
    "    3: 'private',\n",
    "    4: 'ignore',\n",
    "    5: 'parents',\n",
    "    6: 'other',\n",
    "    0: 'unk'\n",
    "}\n",
    "\n",
    "df.home = df.home.map(home_values)\n",
    "\n",
    "marital_values = {\n",
    "    1: 'single',\n",
    "    2: 'married',\n",
    "    3: 'widow',\n",
    "    4: 'separated',\n",
    "    5: 'divorced',\n",
    "    0: 'unk'\n",
    "}\n",
    "\n",
    "df.marital = df.marital.map(marital_values)\n",
    "\n",
    "records_values = {\n",
    "    1: 'no',\n",
    "    2: 'yes',\n",
    "    0: 'unk'\n",
    "}\n",
    "\n",
    "df.records = df.records.map(records_values)\n",
    "\n",
    "job_values = {\n",
    "    1: 'fixed',\n",
    "    2: 'partime',\n",
    "    3: 'freelance',\n",
    "    4: 'others',\n",
    "    0: 'unk'\n",
    "}\n",
    "\n",
    "df.job = df.job.map(job_values)"
   ]
  },
  {
   "cell_type": "code",
   "execution_count": 87,
   "id": "531eb2c8-05a8-47f9-bd55-a17d07db8a25",
   "metadata": {},
   "outputs": [],
   "source": [
    "\"\"\"\n",
    "Preparing numerical columns \n",
    "\"\"\"\n",
    "for c in ['income', 'assets', 'debt']:\n",
    "    df[c] = df[c].replace(to_replace=99999999, value=0)"
   ]
  },
  {
   "cell_type": "code",
   "execution_count": 88,
   "id": "35727f7d-38b9-4917-95c8-30a11756fa39",
   "metadata": {},
   "outputs": [],
   "source": [
    "\"\"\"\n",
    "dropping rows where the status is unknown\"\n",
    "\"\"\"\n",
    "df = df[df.status != 'unk'].reset_index(drop=True)"
   ]
  },
  {
   "cell_type": "code",
   "execution_count": 89,
   "id": "d67d08ea-c544-4461-92a2-61e9e44c76fc",
   "metadata": {},
   "outputs": [],
   "source": [
    "\"\"\"\n",
    "Setting the target column to binary \n",
    "\"\"\"\n",
    "df['default'] = (df.status == 'default').astype(int)\n",
    "del df['status']"
   ]
  },
  {
   "cell_type": "code",
   "execution_count": 90,
   "id": "18402cfe-eb0f-4c3e-bd6c-901a2a70b753",
   "metadata": {},
   "outputs": [],
   "source": [
    "\"\"\"\n",
    "Splitting the data\n",
    "\"\"\"\n",
    "df_full_train, df_test = train_test_split(df, test_size=0.2, random_state=1)\n",
    "df_train, df_val = train_test_split(df_full_train, test_size=0.25, random_state=1)\n",
    "\n",
    "y_train = df_train.default\n",
    "y_val = df_val.default\n",
    "y_test = df_test.default"
   ]
  },
  {
   "cell_type": "code",
   "execution_count": 91,
   "id": "c3cf809e-ed1a-4c14-8598-427639a0a12b",
   "metadata": {},
   "outputs": [
    {
     "name": "stdout",
     "output_type": "stream",
     "text": [
      "seniority: 0.71\n",
      "time: 0.56\n",
      "age: 0.57\n",
      "expenses: 0.5\n",
      "income: 0.68\n",
      "assets: 0.65\n",
      "debt: 0.5\n",
      "amount: 0.59\n",
      "price: 0.5\n",
      "default: 1.0\n"
     ]
    }
   ],
   "source": [
    "\"\"\"\n",
    "Evaluating feature importance of numerical columns with auc score\n",
    "\"\"\"\n",
    "numerical = df.columns[df.dtypes != 'object']\n",
    "\n",
    "for feature in numerical:\n",
    "    auc_score = round(roc_auc_score(df_train['default'], df_train[feature]),2)\n",
    "    if auc_score < 0.5:\n",
    "        auc_score = round(roc_auc_score(df_train['default'], -df_train[feature]),2)\n",
    "    print(feature+\":\", auc_score)"
   ]
  },
  {
   "cell_type": "markdown",
   "id": "d9a48c9a-cab7-49a5-96c1-b63b498d32fc",
   "metadata": {},
   "source": [
    "The numerical feature with the highest auc score is 'seniority'"
   ]
  },
  {
   "cell_type": "code",
   "execution_count": 92,
   "id": "4877bd57-4d7a-4f71-a645-28e9ee58bf30",
   "metadata": {},
   "outputs": [],
   "source": [
    "\"\"\"\n",
    "creating training and validation data with selected columns \n",
    "\"\"\"\n",
    "columns = ['seniority', 'income', 'assets', 'records', 'job', 'home']\n",
    "train_slice_df = df_train[columns]\n",
    "val_slice_df = df_val[columns]"
   ]
  },
  {
   "cell_type": "code",
   "execution_count": 93,
   "id": "025e0029-b6bf-4444-9af4-e0558dcf7285",
   "metadata": {},
   "outputs": [
    {
     "data": {
      "text/plain": [
       "0.8120879813449298"
      ]
     },
     "execution_count": 93,
     "metadata": {},
     "output_type": "execute_result"
    }
   ],
   "source": [
    "\"\"\"\n",
    "Training and evaluating a logistic regression  model with auc\n",
    "\"\"\"\n",
    "#DictVectorizer performs one hot enconding on categorical columns\n",
    "dv = DictVectorizer()\n",
    "\n",
    "#creating an instance of the logistic regression model\n",
    "model = LogisticRegression(solver='liblinear', C=1.0, max_iter=1000)\n",
    "\n",
    "#convert train data to dictionary\n",
    "train_slice_dict = train_slice_df.to_dict(orient='records')\n",
    "\n",
    "#one hot encoding \n",
    "X_train = dv.fit_transform(train_slice_dict)\n",
    "\n",
    "#specifying target values\n",
    "y_train = df_train['default'].values\n",
    "\n",
    "#Training the model \n",
    "model.fit(X_train, y_train)\n",
    "\n",
    "#convert validation data to dictionary\n",
    "val_slice_dict = val_slice_df.to_dict(orient='records')\n",
    "\n",
    "#one hot encoding \n",
    "X_val = dv.transform(val_slice_dict)\n",
    "\n",
    "y_val = df_val['default'].values\n",
    "\n",
    "#model predictions for the validation data\n",
    "y_pred = model.predict_proba(X_val)[:,1]\n",
    "\n",
    "#cchecking model performance with auc score\n",
    "roc_auc_score(y_val, y_pred)\n"
   ]
  },
  {
   "cell_type": "code",
   "execution_count": 94,
   "id": "ed6420ca-6518-4507-ac6f-35f776a9d486",
   "metadata": {},
   "outputs": [],
   "source": [
    "scores = []\n",
    "def find_scores(y_val, y_pred, t):\n",
    "    \"\"\"\n",
    "    This function computes precision and recall for various tresholds of a model,\n",
    "    and appends computed scores to a list\n",
    "    params:original values, predicted values, thresholds\n",
    "    returns: list t, precison, recall\n",
    "    rtype:pandas dataframe\n",
    "    \"\"\"\n",
    "    tp = ((y_pred >= t ) & (y_val == 1)).sum()\n",
    "    fp = ((y_pred >= t ) & (y_val == 0)).sum()\n",
    "    tn = ((y_pred < t ) & (y_val == 0)).sum()\n",
    "    fn = ((y_pred < t ) & (y_val == 1)).sum()\n",
    "    \n",
    "    # precision = tp / (tp + fp)\n",
    "    # recall = tp / (tp + fn)       \n",
    "    \n",
    "    scores.append((t,tp, tn, fp, fn))    "
   ]
  },
  {
   "cell_type": "code",
   "execution_count": 95,
   "id": "e1bc984b-9441-46ea-b52d-81cf8efe503c",
   "metadata": {},
   "outputs": [],
   "source": [
    "\"\"\"\n",
    "Evaluating precision and recall for specific thresholds,\n",
    "and creating a dataframe with computed values\n",
    "\"\"\"\n",
    "thresholds = np.arange(0.0, 1.0, 0.01)\n",
    "\n",
    "for t in thresholds:\n",
    "     find_scores(y_val, y_pred, t)\n",
    "\n",
    "df_scores = pd.DataFrame(scores, columns=(['t', 'tp', 'tn','fp', 'fn'])) \n",
    "\n",
    "#calculating precision and recall\n",
    "df_scores['p'] = df_scores.tp / (df_scores.tp + df_scores.fp) \n",
    "df_scores['r'] = df_scores.tp / (df_scores.tp + df_scores.fn) "
   ]
  },
  {
   "cell_type": "code",
   "execution_count": 96,
   "id": "d8f84d1f-3a65-428d-be17-e19b9e37bdf8",
   "metadata": {},
   "outputs": [
    {
     "data": {
      "text/plain": [
       "Text(0.5, 0, 'Threshold')"
      ]
     },
     "execution_count": 96,
     "metadata": {},
     "output_type": "execute_result"
    },
    {
     "data": {
      "image/png": "[encoded data removed]",
      "text/plain": [
       "<Figure size 432x288 with 1 Axes>"
      ]
     },
     "metadata": {
      "needs_background": "light"
     },
     "output_type": "display_data"
    }
   ],
   "source": [
    "\"\"\"\n",
    "Plotting precision and recall\n",
    "\"\"\"\n",
    "plt.plot(df_scores.t, df_scores.p, label='precision')\n",
    "plt.plot(df_scores.t, df_scores.r, label='recall')\n",
    "plt.legend()\n",
    "plt.xlabel('Threshold')"
   ]
  },
  {
   "cell_type": "markdown",
   "id": "f485e15c-34da-402b-ad78-af6621a8007b",
   "metadata": {},
   "source": [
    "precision and recall intersect at a treshold of 0.4"
   ]
  },
  {
   "cell_type": "code",
   "execution_count": 97,
   "id": "ebff0e01-0a24-4e2c-9d15-a8e5d7fb9518",
   "metadata": {},
   "outputs": [],
   "source": [
    "\"\"\"\n",
    "Computing f1 score for all thresholds\n",
    "\"\"\"\n",
    "df_scores['f1'] = (2 * df_scores['p'] * df_scores['r']) / (df_scores['p'] + df_scores['r'])"
   ]
  },
  {
   "cell_type": "code",
   "execution_count": 105,
   "id": "06887936-adb1-40c7-913e-0e0f325d5897",
   "metadata": {},
   "outputs": [
    {
     "data": {
      "text/plain": [
       "t       0.300000\n",
       "tp    187.000000\n",
       "tn    483.000000\n",
       "fp    162.000000\n",
       "fn     59.000000\n",
       "p       0.535817\n",
       "r       0.760163\n",
       "f1      0.628571\n",
       "Name: 30, dtype: float64"
      ]
     },
     "execution_count": 105,
     "metadata": {},
     "output_type": "execute_result"
    }
   ],
   "source": [
    "\"\"\"\n",
    "Checking the treshold with the highest f1 score\n",
    "\"\"\"\n",
    "\n",
    "df_scores.iloc[df_scores.f1.argmax()]"
   ]
  },
  {
   "cell_type": "markdown",
   "id": "fbfa04cf-f402-4ae2-bf6d-949256f66abb",
   "metadata": {},
   "source": [
    "The treshold with the highest f1 score is 0.3"
   ]
  },
  {
   "cell_type": "code",
   "execution_count": 110,
   "id": "8398ac70-8613-48c1-b2a1-bf7830996f84",
   "metadata": {},
   "outputs": [
    {
     "name": "stdout",
     "output_type": "stream",
     "text": [
      "mean: 0.814 std: 0.015\n"
     ]
    }
   ],
   "source": [
    "\"\"\"\n",
    "Evaluating model using KFold\n",
    "\"\"\"\n",
    "from sklearn.model_selection import KFold\n",
    "\n",
    "model = LogisticRegression(solver='liblinear', C=1.0, max_iter=1000)\n",
    "dv = DictVectorizer(sparse=False)\n",
    "\n",
    "kfold = KFold(n_splits=5, shuffle=True, random_state=1)\n",
    "\n",
    "scores = []\n",
    "for train_idx, val_idx in kfold.split(df_full_train):\n",
    "    df_train = df_full_train.iloc[train_idx]\n",
    "    y_train = df_train.default.values\n",
    "    train_dict = df_train[columns].to_dict(orient='records')\n",
    "    X_train = dv.fit_transform(train_dict)\n",
    "    model.fit(X_train, y_train)\n",
    "    \n",
    "    df_val = df_full_train.iloc[val_idx]\n",
    "    y_val = df_val.default.values\n",
    "    val_dict = df_val[columns].to_dict(orient='records')\n",
    "    X_val = dv.transform(val_dict)\n",
    "    y_pred = model.predict_proba(X_val)[:,1]\n",
    "    \n",
    "    score = roc_auc_score(y_val, y_pred)\n",
    "    scores.append(score)\n",
    "\n",
    "#prnting the mean auc score and standard deviation for all folds\n",
    "print(\"mean: %.3f std: %.3f\" % (np.mean(scores), np.std(scores)))"
   ]
  },
  {
   "cell_type": "code",
   "execution_count": 107,
   "id": "cd393cf1-cc92-43c2-8e77-859a08fd8155",
   "metadata": {},
   "outputs": [
    {
     "name": "stdout",
     "output_type": "stream",
     "text": [
      "0.01 0.808 +- 0.012\n",
      "0.1 0.813 +- 0.014\n",
      "1 0.814 +- 0.015\n",
      "10 0.814 +- 0.015\n"
     ]
    }
   ],
   "source": [
    "\"\"\"\n",
    "Evaluating model using different tuning paramteters\n",
    "\"\"\"\n",
    "from sklearn.model_selection import KFold\n",
    "\n",
    "for C in [0.01, 0.1, 1, 10]:    \n",
    "\n",
    "    model = LogisticRegression(solver='liblinear', C=C, max_iter=1000)\n",
    "    dv = DictVectorizer(sparse=False)\n",
    "\n",
    "    kfold = KFold(n_splits=5, shuffle=True, random_state=1)\n",
    "\n",
    "    scores = []\n",
    "    for train_idx, val_idx in kfold.split(df_full_train):\n",
    "        df_train = df_full_train.iloc[train_idx]\n",
    "        y_train = df_train.default.values\n",
    "        train_dict = df_train[columns].to_dict(orient='records')\n",
    "        X_train = dv.fit_transform(train_dict)\n",
    "        model.fit(X_train, y_train)\n",
    "\n",
    "        df_val = df_full_train.iloc[val_idx]\n",
    "        y_val = df_val.default.values\n",
    "        val_dict = df_val[columns].to_dict(orient='records')\n",
    "        X_val = dv.transform(val_dict)\n",
    "        y_pred = model.predict_proba(X_val)[:,1]\n",
    "\n",
    "        score = roc_auc_score(y_val, y_pred)\n",
    "        scores.append(score)\n",
    "\n",
    "    print(\"%s %.3f +- %.3f\" % (C, np.mean(scores), np.std(scores)))"
   ]
  },
  {
   "cell_type": "markdown",
   "id": "751bfe97-af78-4668-ae84-5612e7dcc8ea",
   "metadata": {},
   "source": [
    "The C value that leads to the best score is: 1.0"
   ]
  }
 ],
 "metadata": {
  "kernelspec": {
   "display_name": "Python 3 (ipykernel)",
   "language": "python",
   "name": "python3"
  },
  "language_info": {
   "codemirror_mode": {
    "name": "ipython",
    "version": 3
   },
   "file_extension": ".py",
   "mimetype": "text/x-python",
   "name": "python",
   "nbconvert_exporter": "python",
   "pygments_lexer": "ipython3",
   "version": "3.9.7"
  }
 },
 "nbformat": 4,
 "nbformat_minor": 5
}
