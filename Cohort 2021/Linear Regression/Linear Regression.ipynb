{
 "cells": [
  {
   "cell_type": "code",
   "execution_count": 1,
   "id": "003746ab-0502-4afb-8765-3c498057cd85",
   "metadata": {},
   "outputs": [],
   "source": [
    "\"\"\"\n",
    "Importing necessary libraries \n",
    "\"\"\"\n",
    "import numpy as np \n",
    "import pandas as pd \n",
    "import matplotlib.pyplot as plt \n",
    "import seaborn as sns "
   ]
  },
  {
   "cell_type": "code",
   "execution_count": 2,
   "id": "4bca03f0-0a49-48f5-bb8c-d989786ae53d",
   "metadata": {},
   "outputs": [],
   "source": [
    "\"\"\"\n",
    "Reading the data\n",
    "\"\"\"\n",
    "data = pd.read_csv('AB_NYC_2019.csv')"
   ]
  },
  {
   "cell_type": "code",
   "execution_count": 3,
   "id": "cbd02ab2-1780-4885-9780-2bdb7908f2fc",
   "metadata": {},
   "outputs": [],
   "source": [
    "\"\"\"\n",
    "Creating a copy of the data for analysis\n",
    "\"\"\"\n",
    "bnb = data.copy()"
   ]
  },
  {
   "cell_type": "code",
   "execution_count": 4,
   "id": "2ee52d19-99c8-415d-b258-badfc2955781",
   "metadata": {},
   "outputs": [
    {
     "data": {
      "text/html": [
       "<div>\n",
       "<style scoped>\n",
       "    .dataframe tbody tr th:only-of-type {\n",
       "        vertical-align: middle;\n",
       "    }\n",
       "\n",
       "    .dataframe tbody tr th {\n",
       "        vertical-align: top;\n",
       "    }\n",
       "\n",
       "    .dataframe thead th {\n",
       "        text-align: right;\n",
       "    }\n",
       "</style>\n",
       "<table border=\"1\" class=\"dataframe\">\n",
       "  <thead>\n",
       "    <tr style=\"text-align: right;\">\n",
       "      <th></th>\n",
       "      <th>id</th>\n",
       "      <th>name</th>\n",
       "      <th>host_id</th>\n",
       "      <th>host_name</th>\n",
       "      <th>neighbourhood_group</th>\n",
       "      <th>neighbourhood</th>\n",
       "      <th>latitude</th>\n",
       "      <th>longitude</th>\n",
       "      <th>room_type</th>\n",
       "      <th>price</th>\n",
       "      <th>minimum_nights</th>\n",
       "      <th>number_of_reviews</th>\n",
       "      <th>last_review</th>\n",
       "      <th>reviews_per_month</th>\n",
       "      <th>calculated_host_listings_count</th>\n",
       "      <th>availability_365</th>\n",
       "    </tr>\n",
       "  </thead>\n",
       "  <tbody>\n",
       "    <tr>\n",
       "      <th>0</th>\n",
       "      <td>2539</td>\n",
       "      <td>Clean &amp; quiet apt home by the park</td>\n",
       "      <td>2787</td>\n",
       "      <td>John</td>\n",
       "      <td>Brooklyn</td>\n",
       "      <td>Kensington</td>\n",
       "      <td>40.64749</td>\n",
       "      <td>-73.97237</td>\n",
       "      <td>Private room</td>\n",
       "      <td>149</td>\n",
       "      <td>1</td>\n",
       "      <td>9</td>\n",
       "      <td>2018-10-19</td>\n",
       "      <td>0.21</td>\n",
       "      <td>6</td>\n",
       "      <td>365</td>\n",
       "    </tr>\n",
       "    <tr>\n",
       "      <th>1</th>\n",
       "      <td>2595</td>\n",
       "      <td>Skylit Midtown Castle</td>\n",
       "      <td>2845</td>\n",
       "      <td>Jennifer</td>\n",
       "      <td>Manhattan</td>\n",
       "      <td>Midtown</td>\n",
       "      <td>40.75362</td>\n",
       "      <td>-73.98377</td>\n",
       "      <td>Entire home/apt</td>\n",
       "      <td>225</td>\n",
       "      <td>1</td>\n",
       "      <td>45</td>\n",
       "      <td>2019-05-21</td>\n",
       "      <td>0.38</td>\n",
       "      <td>2</td>\n",
       "      <td>355</td>\n",
       "    </tr>\n",
       "    <tr>\n",
       "      <th>2</th>\n",
       "      <td>3647</td>\n",
       "      <td>THE VILLAGE OF HARLEM....NEW YORK !</td>\n",
       "      <td>4632</td>\n",
       "      <td>Elisabeth</td>\n",
       "      <td>Manhattan</td>\n",
       "      <td>Harlem</td>\n",
       "      <td>40.80902</td>\n",
       "      <td>-73.94190</td>\n",
       "      <td>Private room</td>\n",
       "      <td>150</td>\n",
       "      <td>3</td>\n",
       "      <td>0</td>\n",
       "      <td>NaN</td>\n",
       "      <td>NaN</td>\n",
       "      <td>1</td>\n",
       "      <td>365</td>\n",
       "    </tr>\n",
       "    <tr>\n",
       "      <th>3</th>\n",
       "      <td>3831</td>\n",
       "      <td>Cozy Entire Floor of Brownstone</td>\n",
       "      <td>4869</td>\n",
       "      <td>LisaRoxanne</td>\n",
       "      <td>Brooklyn</td>\n",
       "      <td>Clinton Hill</td>\n",
       "      <td>40.68514</td>\n",
       "      <td>-73.95976</td>\n",
       "      <td>Entire home/apt</td>\n",
       "      <td>89</td>\n",
       "      <td>1</td>\n",
       "      <td>270</td>\n",
       "      <td>2019-07-05</td>\n",
       "      <td>4.64</td>\n",
       "      <td>1</td>\n",
       "      <td>194</td>\n",
       "    </tr>\n",
       "    <tr>\n",
       "      <th>4</th>\n",
       "      <td>5022</td>\n",
       "      <td>Entire Apt: Spacious Studio/Loft by central park</td>\n",
       "      <td>7192</td>\n",
       "      <td>Laura</td>\n",
       "      <td>Manhattan</td>\n",
       "      <td>East Harlem</td>\n",
       "      <td>40.79851</td>\n",
       "      <td>-73.94399</td>\n",
       "      <td>Entire home/apt</td>\n",
       "      <td>80</td>\n",
       "      <td>10</td>\n",
       "      <td>9</td>\n",
       "      <td>2018-11-19</td>\n",
       "      <td>0.10</td>\n",
       "      <td>1</td>\n",
       "      <td>0</td>\n",
       "    </tr>\n",
       "  </tbody>\n",
       "</table>\n",
       "</div>"
      ],
      "text/plain": [
       "     id                                              name  host_id  \\\n",
       "0  2539                Clean & quiet apt home by the park     2787   \n",
       "1  2595                             Skylit Midtown Castle     2845   \n",
       "2  3647               THE VILLAGE OF HARLEM....NEW YORK !     4632   \n",
       "3  3831                   Cozy Entire Floor of Brownstone     4869   \n",
       "4  5022  Entire Apt: Spacious Studio/Loft by central park     7192   \n",
       "\n",
       "     host_name neighbourhood_group neighbourhood  latitude  longitude  \\\n",
       "0         John            Brooklyn    Kensington  40.64749  -73.97237   \n",
       "1     Jennifer           Manhattan       Midtown  40.75362  -73.98377   \n",
       "2    Elisabeth           Manhattan        Harlem  40.80902  -73.94190   \n",
       "3  LisaRoxanne            Brooklyn  Clinton Hill  40.68514  -73.95976   \n",
       "4        Laura           Manhattan   East Harlem  40.79851  -73.94399   \n",
       "\n",
       "         room_type  price  minimum_nights  number_of_reviews last_review  \\\n",
       "0     Private room    149               1                  9  2018-10-19   \n",
       "1  Entire home/apt    225               1                 45  2019-05-21   \n",
       "2     Private room    150               3                  0         NaN   \n",
       "3  Entire home/apt     89               1                270  2019-07-05   \n",
       "4  Entire home/apt     80              10                  9  2018-11-19   \n",
       "\n",
       "   reviews_per_month  calculated_host_listings_count  availability_365  \n",
       "0               0.21                               6               365  \n",
       "1               0.38                               2               355  \n",
       "2                NaN                               1               365  \n",
       "3               4.64                               1               194  \n",
       "4               0.10                               1                 0  "
      ]
     },
     "execution_count": 4,
     "metadata": {},
     "output_type": "execute_result"
    }
   ],
   "source": [
    "\"\"\"\n",
    "Checking first five rows of the data\n",
    "\"\"\"\n",
    "bnb.head()"
   ]
  },
  {
   "cell_type": "code",
   "execution_count": 5,
   "id": "38c08de8-b4dc-4efc-8c2e-7fcba04adc1b",
   "metadata": {},
   "outputs": [],
   "source": [
    "\"\"\"\n",
    "list of column names \n",
    "\"\"\"\n",
    "cols = ['latitude','longitude','price','minimum_nights','number_of_reviews',\n",
    "        'reviews_per_month','calculated_host_listings_count','availability_365']\n",
    "\n",
    "\"\"\"\n",
    "This function creates a new dataframe from a preexisting one \n",
    "params: pre-existing dataframe, list of columns to be added to new dataframe\n",
    "return: dataframe\n",
    "rtype: pandas dataframe\n",
    "\"\"\"\n",
    "def create_from_df(df, data):\n",
    "    return df[data]"
   ]
  },
  {
   "cell_type": "code",
   "execution_count": 6,
   "id": "00290083-564b-4c7e-8ecd-dc255feffdad",
   "metadata": {},
   "outputs": [],
   "source": [
    "bnb_df = create_from_df(bnb, cols)"
   ]
  },
  {
   "cell_type": "code",
   "execution_count": 7,
   "id": "14f76764-3b69-4c5b-b3de-206359a64496",
   "metadata": {},
   "outputs": [
    {
     "data": {
      "text/html": [
       "<div>\n",
       "<style scoped>\n",
       "    .dataframe tbody tr th:only-of-type {\n",
       "        vertical-align: middle;\n",
       "    }\n",
       "\n",
       "    .dataframe tbody tr th {\n",
       "        vertical-align: top;\n",
       "    }\n",
       "\n",
       "    .dataframe thead th {\n",
       "        text-align: right;\n",
       "    }\n",
       "</style>\n",
       "<table border=\"1\" class=\"dataframe\">\n",
       "  <thead>\n",
       "    <tr style=\"text-align: right;\">\n",
       "      <th></th>\n",
       "      <th>latitude</th>\n",
       "      <th>longitude</th>\n",
       "      <th>price</th>\n",
       "      <th>minimum_nights</th>\n",
       "      <th>number_of_reviews</th>\n",
       "      <th>reviews_per_month</th>\n",
       "      <th>calculated_host_listings_count</th>\n",
       "      <th>availability_365</th>\n",
       "    </tr>\n",
       "  </thead>\n",
       "  <tbody>\n",
       "    <tr>\n",
       "      <th>0</th>\n",
       "      <td>40.64749</td>\n",
       "      <td>-73.97237</td>\n",
       "      <td>149</td>\n",
       "      <td>1</td>\n",
       "      <td>9</td>\n",
       "      <td>0.21</td>\n",
       "      <td>6</td>\n",
       "      <td>365</td>\n",
       "    </tr>\n",
       "    <tr>\n",
       "      <th>1</th>\n",
       "      <td>40.75362</td>\n",
       "      <td>-73.98377</td>\n",
       "      <td>225</td>\n",
       "      <td>1</td>\n",
       "      <td>45</td>\n",
       "      <td>0.38</td>\n",
       "      <td>2</td>\n",
       "      <td>355</td>\n",
       "    </tr>\n",
       "    <tr>\n",
       "      <th>2</th>\n",
       "      <td>40.80902</td>\n",
       "      <td>-73.94190</td>\n",
       "      <td>150</td>\n",
       "      <td>3</td>\n",
       "      <td>0</td>\n",
       "      <td>NaN</td>\n",
       "      <td>1</td>\n",
       "      <td>365</td>\n",
       "    </tr>\n",
       "    <tr>\n",
       "      <th>3</th>\n",
       "      <td>40.68514</td>\n",
       "      <td>-73.95976</td>\n",
       "      <td>89</td>\n",
       "      <td>1</td>\n",
       "      <td>270</td>\n",
       "      <td>4.64</td>\n",
       "      <td>1</td>\n",
       "      <td>194</td>\n",
       "    </tr>\n",
       "    <tr>\n",
       "      <th>4</th>\n",
       "      <td>40.79851</td>\n",
       "      <td>-73.94399</td>\n",
       "      <td>80</td>\n",
       "      <td>10</td>\n",
       "      <td>9</td>\n",
       "      <td>0.10</td>\n",
       "      <td>1</td>\n",
       "      <td>0</td>\n",
       "    </tr>\n",
       "  </tbody>\n",
       "</table>\n",
       "</div>"
      ],
      "text/plain": [
       "   latitude  longitude  price  minimum_nights  number_of_reviews  \\\n",
       "0  40.64749  -73.97237    149               1                  9   \n",
       "1  40.75362  -73.98377    225               1                 45   \n",
       "2  40.80902  -73.94190    150               3                  0   \n",
       "3  40.68514  -73.95976     89               1                270   \n",
       "4  40.79851  -73.94399     80              10                  9   \n",
       "\n",
       "   reviews_per_month  calculated_host_listings_count  availability_365  \n",
       "0               0.21                               6               365  \n",
       "1               0.38                               2               355  \n",
       "2                NaN                               1               365  \n",
       "3               4.64                               1               194  \n",
       "4               0.10                               1                 0  "
      ]
     },
     "execution_count": 7,
     "metadata": {},
     "output_type": "execute_result"
    }
   ],
   "source": [
    "bnb_df.head()"
   ]
  },
  {
   "cell_type": "code",
   "execution_count": 8,
   "id": "213af107-8001-4e79-9dc0-534173017e42",
   "metadata": {},
   "outputs": [
    {
     "data": {
      "text/plain": [
       "<AxesSubplot:xlabel='price', ylabel='Count'>"
      ]
     },
     "execution_count": 8,
     "metadata": {},
     "output_type": "execute_result"
    },
    {
     "data": {
      "image/png": "[encoded data removed]",
      "text/plain": [
       "<Figure size 432x288 with 1 Axes>"
      ]
     },
     "metadata": {
      "needs_background": "light"
     },
     "output_type": "display_data"
    }
   ],
   "source": [
    "\"\"\"\n",
    "Visualizing the price column of the dataframe\n",
    "\"\"\"\n",
    "sns.histplot(bnb_df['price'], bins=50)"
   ]
  },
  {
   "cell_type": "markdown",
   "id": "e9a336e0-53c8-4b48-984f-87474cafe5e9",
   "metadata": {},
   "source": [
    "The price column contains long tails, so we perform log transformation"
   ]
  },
  {
   "cell_type": "code",
   "execution_count": 9,
   "id": "951ce4df-6b27-471b-9565-e537050d904f",
   "metadata": {},
   "outputs": [
    {
     "data": {
      "text/plain": [
       "Text(0.5, 0, 'Log Price')"
      ]
     },
     "execution_count": 9,
     "metadata": {},
     "output_type": "execute_result"
    },
    {
     "data": {
      "image/png": "[encoded data removed]",
      "text/plain": [
       "<Figure size 504x360 with 1 Axes>"
      ]
     },
     "metadata": {
      "needs_background": "light"
     },
     "output_type": "display_data"
    }
   ],
   "source": [
    "\"\"\"\n",
    "Visualizing the log transformation of the price\n",
    "\"\"\"\n",
    "log_price = np.log1p(bnb_df.price)\n",
    "plt.figure(figsize=(7,5))\n",
    "sns.histplot(log_price, bins=50, color='black', alpha=0.5)\n",
    "plt.ylabel('Frequency')\n",
    "plt.xlabel('Log Price')"
   ]
  },
  {
   "cell_type": "markdown",
   "id": "bb49b95a-f121-4bce-9c66-56b1c51b1b9e",
   "metadata": {},
   "source": [
    "Now the price is closer to a normal distribution"
   ]
  },
  {
   "cell_type": "code",
   "execution_count": 10,
   "id": "139fdbe1-0a35-4315-a424-f0c46a52c1fd",
   "metadata": {},
   "outputs": [
    {
     "data": {
      "text/plain": [
       "latitude                              0\n",
       "longitude                             0\n",
       "price                                 0\n",
       "minimum_nights                        0\n",
       "number_of_reviews                     0\n",
       "reviews_per_month                 10052\n",
       "calculated_host_listings_count        0\n",
       "availability_365                      0\n",
       "dtype: int64"
      ]
     },
     "execution_count": 10,
     "metadata": {},
     "output_type": "execute_result"
    }
   ],
   "source": [
    "\"\"\"\n",
    "Checking the missing values in the data \n",
    "\"\"\"\n",
    "bnb_df.isnull().sum()"
   ]
  },
  {
   "cell_type": "markdown",
   "id": "296239e8-9417-4d37-8617-7b2d8e4f72a2",
   "metadata": {},
   "source": [
    "Only the reviews per month have missing values<br>\n",
    "The number of which is 10052"
   ]
  },
  {
   "cell_type": "code",
   "execution_count": 11,
   "id": "27690da2-b77e-4dfe-8561-ea4cca496d5d",
   "metadata": {},
   "outputs": [
    {
     "name": "stdout",
     "output_type": "stream",
     "text": [
      "The median minimum height is 3.0\n"
     ]
    }
   ],
   "source": [
    "\"\"\"\n",
    "The median of 'minimum-heights'\n",
    "\"\"\"\n",
    "\n",
    "print(\"The median minimum height is\", bnb_df['minimum_nights'].median())"
   ]
  },
  {
   "cell_type": "code",
   "execution_count": 12,
   "id": "be85862f-c05b-44a8-9c43-47b86e6e39aa",
   "metadata": {},
   "outputs": [],
   "source": [
    "\"\"\"\n",
    "Splitting the data into:\n",
    "Training data, Validation data and Testing data\n",
    "\"\"\"\n",
    "\n",
    "#setting random seed \n",
    "np.random.seed(42)\n",
    "\n",
    "#setting the percentage splits\n",
    "n = len(bnb_df)\n",
    "\n",
    "#60 percent for training\n",
    "n_train = int(n * 0.6)\n",
    "\n",
    "#20 percent for validation\n",
    "n_val = int(n * 0.2)\n",
    "\n",
    "#20 percent for validation\n",
    "n_test = int(n * 0.2)\n",
    "\n",
    "#shuffling the dataset\n",
    "# idx = np.arange(n)\n",
    "# np.random.shuffle(idx)\n",
    "\n",
    "# bnb_df = bnb_df.iloc[idx].reset_index(drop=True)\n",
    "\n",
    "# #Training data\n",
    "train_df = bnb_df[:n_train]\n",
    "\n",
    "#Validation data\n",
    "val_df = bnb_df[n_train:n_train+n_val]\n",
    "\n",
    "#Testing data\n",
    "test_df = bnb_df[n_train+n_val:]"
   ]
  },
  {
   "cell_type": "code",
   "execution_count": 13,
   "id": "f4603c91-42a8-4c94-8ed2-3d81cc07cd6f",
   "metadata": {},
   "outputs": [],
   "source": [
    "\"\"\"\n",
    "Setting the target variable for the data splits\n",
    "\"\"\"\n",
    "\n",
    "#storing the original form of the target in each data set\n",
    "y_train_orig = train_df.price.values\n",
    "y_val_orig = val_df.price.values\n",
    "y_test_orig = test_df.price.values\n",
    "\n",
    "#performing log transform on the targets\n",
    "y_train = np.log1p(train_df.price.values)\n",
    "y_val = np.log1p(val_df.price.values)\n",
    "y_test = np.log1p(test_df.price.values)\n",
    "\n",
    "#deleting the target column from the data sets \n",
    "del train_df['price']\n",
    "del val_df['price']\n",
    "del test_df['price']"
   ]
  },
  {
   "cell_type": "code",
   "execution_count": 14,
   "id": "18554e2e-9635-4f4c-9e46-ce9b18e82f45",
   "metadata": {},
   "outputs": [],
   "source": [
    "\"\"\"\n",
    "This function takes in a pandas dataframe and a column name ,\n",
    "and fills the missing values in the column with the mean or 0,\n",
    "depending on the user \n",
    "params: pandas dataframe, column name\n",
    "returns: dataframe with filled missing values \n",
    "rtype: pandas dataframe\n",
    "\"\"\"\n",
    "def fill_X(df, column):\n",
    "    new_df = df.copy()\n",
    "    option = input(\"\\tEnter 1 for fill with 0\\n\\tEnter 2 for fill with mean\\nEnter here:\")\n",
    "    if option == '1':\n",
    "        new_df[column] = new_df[column].fillna(0)\n",
    "        \n",
    "    elif option == '2':\n",
    "        new_df[column] = new_df[column].fillna(new_df[column].mean())\n",
    "    \n",
    "    else:\n",
    "        print(\"invalid input\")    \n",
    "    \n",
    "    return new_df"
   ]
  },
  {
   "cell_type": "code",
   "execution_count": 15,
   "id": "e886e9f6-6490-4cda-b637-30a91ebdf129",
   "metadata": {},
   "outputs": [],
   "source": [
    "\"\"\"\n",
    "This function takes in the feature matrix and the target vector,\n",
    "and produces the weights to be used for linear regression\n",
    "params: features, target\n",
    "return: weights for bias and each feature\n",
    "rtype: array\n",
    "\"\"\"\n",
    "\n",
    "def train_linear_regression(X,y):\n",
    "    ones = np.ones(X.shape[0])\n",
    "    X = np.column_stack([ones, X])\n",
    "    XTX = X.T.dot(X)\n",
    "    XTX_inv = np.linalg.inv(XTX)\n",
    "    w = XTX_inv.dot(X.T).dot(y)\n",
    "    return w[0], w[1:]    "
   ]
  },
  {
   "cell_type": "code",
   "execution_count": 16,
   "id": "ab5fe081-6f85-440b-9306-c01193a0f361",
   "metadata": {},
   "outputs": [],
   "source": [
    "\"\"\"\n",
    "This function takes in a feature matrix and its weights,\n",
    "and computes predicted target values\n",
    "params: feature matrix, weights\n",
    "return: predictions for feature matrix\n",
    "rtype: array\n",
    "\"\"\"\n",
    "def predict(X, w_0, w):\n",
    "    bias = w_0\n",
    "    pred = bias + X.dot(w)\n",
    "    return pred"
   ]
  },
  {
   "cell_type": "code",
   "execution_count": 17,
   "id": "caa80828-e0c7-4914-9b2b-bfbfecf207c8",
   "metadata": {},
   "outputs": [],
   "source": [
    "\"\"\"\n",
    "This function takes in the original target values and the predicted values,\n",
    "and computes the root mean squared error\n",
    "params: original target, predicted target\n",
    "return: rmse \n",
    "rtype:float\n",
    "\"\"\"\n",
    "def rmse(y, y_pred):\n",
    "    error = y - y_pred \n",
    "    mse = (error ** 2).mean()\n",
    "    score = round(np.sqrt(mse),2)\n",
    "    return score"
   ]
  },
  {
   "cell_type": "code",
   "execution_count": 78,
   "id": "b3c59f21-78ef-4e7a-bc7f-91509230e4b5",
   "metadata": {
    "tags": []
   },
   "outputs": [
    {
     "name": "stdin",
     "output_type": "stream",
     "text": [
      "\tEnter 1 for fill with 0\n",
      "\tEnter 2 for fill with mean\n",
      "Enter here: 1\n"
     ]
    },
    {
     "name": "stdout",
     "output_type": "stream",
     "text": [
      "The rmse for the training dataset after filling missing data with 0 =  0.64\n"
     ]
    }
   ],
   "source": [
    "\"\"\"\n",
    "Calculating rmse for training dataset after filling missing data with 0\n",
    "\"\"\"\n",
    "X_train = fill_X(train_df, 'reviews_per_month')\n",
    "X_train = X_train.values\n",
    "w_0, w= train_linear_regression(X_train, y_train)\n",
    "y_pred = predict(X_train, w_0, w)\n",
    "print(\"The rmse for the training dataset after filling missing data with 0 = \", rmse(y_train, y_pred))"
   ]
  },
  {
   "cell_type": "code",
   "execution_count": 79,
   "id": "5f6928dc-eded-4211-a8b4-4f26f6f4d1c6",
   "metadata": {},
   "outputs": [
    {
     "name": "stdin",
     "output_type": "stream",
     "text": [
      "\tEnter 1 for fill with 0\n",
      "\tEnter 2 for fill with mean\n",
      "Enter here: 2\n"
     ]
    },
    {
     "name": "stdout",
     "output_type": "stream",
     "text": [
      "The rmse for the training dataset after filling missing data with mean =  0.64\n"
     ]
    }
   ],
   "source": [
    "\"\"\"\n",
    "Calculating rmse for training dataset after filling missing data with the mean\n",
    "\"\"\"\n",
    "X_train = fill_X(train_df, 'reviews_per_month')\n",
    "X_train = X_train.values\n",
    "w_0, w= train_linear_regression(X_train, y_train)\n",
    "y_pred = predict(X_train, w_0, w)\n",
    "print(\"The rmse for the training dataset after filling missing data with mean = \", rmse(y_train, y_pred))"
   ]
  },
  {
   "cell_type": "code",
   "execution_count": 80,
   "id": "43b2e022-762f-40b1-853c-e1669f78204c",
   "metadata": {},
   "outputs": [
    {
     "name": "stdin",
     "output_type": "stream",
     "text": [
      "\tEnter 1 for fill with 0\n",
      "\tEnter 2 for fill with mean\n",
      "Enter here: 1\n"
     ]
    },
    {
     "name": "stdout",
     "output_type": "stream",
     "text": [
      "The rmse for the validation dataset after filling missing data with 0 =  0.64\n"
     ]
    }
   ],
   "source": [
    "\"\"\"\n",
    "Calculating rmse for validation dataset after filling missing data with 0\n",
    "\"\"\"\n",
    "X_val = fill_X(val_df, 'reviews_per_month')\n",
    "X_val = X_val.values\n",
    "w_0, w= train_linear_regression(X_val, y_val)\n",
    "y_pred = predict(X_val, w_0, w)\n",
    "print(\"The rmse for the validation dataset after filling missing data with 0 = \", rmse(y_val, y_pred))"
   ]
  },
  {
   "cell_type": "code",
   "execution_count": 82,
   "id": "e837ebcc-350e-42b6-8f40-38ebdc368c6a",
   "metadata": {},
   "outputs": [
    {
     "name": "stdin",
     "output_type": "stream",
     "text": [
      "\tEnter 1 for fill with 0\n",
      "\tEnter 2 for fill with mean\n",
      "Enter here: 2\n"
     ]
    },
    {
     "name": "stdout",
     "output_type": "stream",
     "text": [
      "The rmse for the validation dataset after filling missing data with the mean =  0.65\n"
     ]
    }
   ],
   "source": [
    "\"\"\"\n",
    "Calculating rmse for validation dataset after filling missing data with the mean\n",
    "\"\"\"\n",
    "X_val = fill_X(val_df, 'reviews_per_month')\n",
    "X_val = X_val.values\n",
    "w_0, w= train_linear_regression(X_val, y_val)\n",
    "y_pred = predict(X_val, w_0, w)\n",
    "print(\"The rmse for the validation dataset after filling missing data with the mean = \",\n",
    "      rmse(y_val, y_pred))"
   ]
  },
  {
   "cell_type": "markdown",
   "id": "84f7b9b7-ae57-4050-9500-0f9eb7185501",
   "metadata": {},
   "source": [
    "The score is the same regardless of filling by zero or 1\n"
   ]
  },
  {
   "cell_type": "code",
   "execution_count": 22,
   "id": "a287f367-ee74-4340-b5c1-cdc2cb97cb54",
   "metadata": {},
   "outputs": [],
   "source": [
    "\"\"\"\n",
    "This function takes in the feature matrix, the target vector, and a regularization value\n",
    "and produces the weights to be used for linear regression\n",
    "params: features, target, regularization value\n",
    "return: weights for bias and each feature\n",
    "rtype: array\n",
    "\"\"\"\n",
    "\n",
    "def train_linear_regression_reg(X,y, r):\n",
    "    ones = np.ones(X.shape[0])\n",
    "    X = np.column_stack([ones, X])\n",
    "    XTX = X.T.dot(X)\n",
    "    \n",
    "    XTX = XTX + (r * np.eye(XTX.shape[0]))\n",
    "    \n",
    "    XTX_inv = np.linalg.inv(XTX)\n",
    "    w = XTX_inv.dot(X.T).dot(y)\n",
    "    return w[0], w[1:]    "
   ]
  },
  {
   "cell_type": "code",
   "execution_count": 84,
   "id": "953dd0b2-5f58-4171-b060-adf5c3a1725b",
   "metadata": {},
   "outputs": [
    {
     "name": "stdin",
     "output_type": "stream",
     "text": [
      "\tEnter 1 for fill with 0\n",
      "\tEnter 2 for fill with mean\n",
      "Enter here: 1\n"
     ]
    },
    {
     "name": "stdout",
     "output_type": "stream",
     "text": [
      "0 -425.67580484315397 0.65\n",
      "1e-06 -425.62534268688637 0.65\n",
      "0.0001 -420.68812691035373 0.65\n",
      "0.001 -380.55696043471886 0.65\n",
      "0.01 -194.7634144164913 0.66\n",
      "0.1 -33.109848849424424 0.68\n",
      "1 -3.558954167745643 0.68\n",
      "5 -0.7154825376290684 0.68\n",
      "10 -0.3573864845251322 0.68\n"
     ]
    }
   ],
   "source": [
    "\"\"\"\n",
    "Determining the best r value by testing different values\n",
    "\"\"\"\n",
    "values = [0, 0.000001, 0.0001, 0.001, 0.01, 0.1, 1, 5, 10]\n",
    "X_train = fill_X(train_df, 'reviews_per_month')\n",
    "\n",
    "for r in values:\n",
    "    w_0, w = train_linear_regression_reg(X_train, y_train, r)\n",
    "    \n",
    "    y_pred = w_0 + X_val.dot(w)\n",
    "    score = rmse(y_val, y_pred)\n",
    "    \n",
    "    print(r, w_0, score)\n",
    "    \n",
    "    \n",
    "    "
   ]
  },
  {
   "cell_type": "markdown",
   "id": "c5cb74f5-81e8-47b1-9f0f-5cdc81242049",
   "metadata": {},
   "source": [
    "Regularization does not reduce the rmse "
   ]
  },
  {
   "cell_type": "code",
   "execution_count": 86,
   "id": "b2ee468a-0d0b-421a-b7e6-f05cde4690dd",
   "metadata": {},
   "outputs": [
    {
     "name": "stdout",
     "output_type": "stream",
     "text": [
      "0.65\n"
     ]
    }
   ],
   "source": [
    "\"\"\"\n",
    "Using the best regularizatiobn value for validation\n",
    "\"\"\"\n",
    "w_0, w = train_linear_regression_reg(X_train, y_train, r=0.0)\n",
    "y_pred = w_0 + X_val.dot(w)\n",
    "score = rmse(y_val, y_pred)\n",
    "print(score)\n"
   ]
  },
  {
   "cell_type": "code",
   "execution_count": 87,
   "id": "833e2481-2d3a-4e73-a60a-f1e09e94ad30",
   "metadata": {},
   "outputs": [],
   "source": [
    "def fill_zero(df, column):\n",
    "    new_df = df.copy()\n",
    "    new_df[column] = new_df[column].fillna(0)\n",
    "    return new_df.values"
   ]
  },
  {
   "cell_type": "code",
   "execution_count": 88,
   "id": "3b93b7a6-152f-4df4-a5b6-9984f579110a",
   "metadata": {},
   "outputs": [
    {
     "name": "stdout",
     "output_type": "stream",
     "text": [
      "seed =  0 : The rmse for the training dataset after filling missing data with 0 =  0.73\n",
      "seed =  1 : The rmse for the training dataset after filling missing data with 0 =  0.75\n",
      "seed =  2 : The rmse for the training dataset after filling missing data with 0 =  0.75\n",
      "seed =  3 : The rmse for the training dataset after filling missing data with 0 =  0.74\n",
      "seed =  4 : The rmse for the training dataset after filling missing data with 0 =  0.75\n",
      "seed =  5 : The rmse for the training dataset after filling missing data with 0 =  0.74\n",
      "seed =  6 : The rmse for the training dataset after filling missing data with 0 =  0.75\n",
      "seed =  7 : The rmse for the training dataset after filling missing data with 0 =  0.75\n",
      "seed =  8 : The rmse for the training dataset after filling missing data with 0 =  0.75\n",
      "seed =  9 : The rmse for the training dataset after filling missing data with 0 =  0.73\n"
     ]
    }
   ],
   "source": [
    "#setting random seed \n",
    "scores_list = []\n",
    "for i in [0, 1, 2, 3, 4, 5, 6, 7, 8, 9]:\n",
    "    np.random.seed(i)\n",
    "\n",
    "    #setting the percentage splits\n",
    "    n = len(bnb_df)\n",
    "\n",
    "    #60 percent for training\n",
    "    n_train = int(n * 0.6)\n",
    "\n",
    "    #20 percent for validation\n",
    "    n_val = int(n * 0.2)\n",
    "\n",
    "    #20 percent for validation\n",
    "    n_test = int(n * 0.2)\n",
    "\n",
    "    #shuffling the dataset\n",
    "    idx = np.arange(n)\n",
    "    np.random.shuffle(idx)\n",
    "\n",
    "    bnb_df = bnb_df.iloc[idx].reset_index(drop=True)\n",
    "\n",
    "    #Training data\n",
    "    train_df = bnb_df[:n_train]\n",
    "\n",
    "    #Validation data\n",
    "    val_df = bnb_df[n_train:n_train+n_val]\n",
    "    \n",
    "    #Testing data\n",
    "    test_df = bnb_df[n_train+n_val:]\n",
    "    \n",
    "    y_train_orig = train_df.price.values\n",
    "    y_val_orig = val_df.price.values\n",
    "    y_test_orig = test_df.price.values\n",
    "\n",
    "    #performing log transform on the targets\n",
    "    y_train = np.log1p(train_df.price.values)\n",
    "    y_val = np.log1p(val_df.price.values)\n",
    "    y_test = np.log1p(test_df.price.values)\n",
    "\n",
    "    #deleting the target column from the data sets \n",
    "    del train_df['price']\n",
    "    del val_df['price']\n",
    "    del test_df['price']\n",
    "    \n",
    "    X_train = fill_zero(train_df, 'reviews_per_month')\n",
    "    w_0, w= train_linear_regression_reg(X_train, y_train, r=0.0)\n",
    "    y_pred = predict(X_val, w_0, w)\n",
    "    score =  rmse(y_val, y_pred)\n",
    "    print(\"seed = \", i , \": The rmse for the training dataset after filling missing data with 0 = \", score)\n",
    "    scores_list.append(score)"
   ]
  },
  {
   "cell_type": "code",
   "execution_count": 90,
   "id": "1a0a6251-95db-4b74-a1ac-6049f63305a1",
   "metadata": {},
   "outputs": [
    {
     "data": {
      "text/plain": [
       "0.008"
      ]
     },
     "execution_count": 90,
     "metadata": {},
     "output_type": "execute_result"
    }
   ],
   "source": [
    "\"\"\"\n",
    "Finding the standard devaition of all the rmse\n",
    "\"\"\"\n",
    "np.round(np.std(scores_list),3)"
   ]
  },
  {
   "cell_type": "code",
   "execution_count": 93,
   "id": "b4e4538b-d769-4109-b765-da1a2cfbeb36",
   "metadata": {},
   "outputs": [
    {
     "name": "stdout",
     "output_type": "stream",
     "text": [
      "test score 0.66\n"
     ]
    }
   ],
   "source": [
    "\"\"\"\n",
    "Training the model with random seed set to 9,\n",
    "And using it on test data set\n",
    "\"\"\"\n",
    "np.random.seed(9)\n",
    "n = len(bnb_df)\n",
    "\n",
    "#60 percent for training\n",
    "n_train = int(n * 0.6)\n",
    "\n",
    "#20 percent for validation\n",
    "n_val = int(n * 0.2)\n",
    "\n",
    "#20 percent for validation\n",
    "n_test = int(n * 0.2)\n",
    "\n",
    "#Training data\n",
    "train_df = bnb_df[:n_train]\n",
    "\n",
    "#Validation data\n",
    "val_df = bnb_df[n_train:n_train+n_val]\n",
    "\n",
    "#Testing data\n",
    "test_df = bnb_df[n_train+n_val:]\n",
    "\n",
    "y_train_orig = train_df.price\n",
    "y_val_orig = val_df.price\n",
    "y_test_orig = test_df.price.values\n",
    "\n",
    "#performing log transform on the targets\n",
    "y_train = np.log1p(train_df.price.values)\n",
    "y_val = np.log1p(val_df.price.values)\n",
    "y_test = np.log1p(test_df.price.values)\n",
    "\n",
    "#deleting the target column from the data sets \n",
    "del train_df['price']\n",
    "del val_df['price']\n",
    "del test_df['price']\n",
    "\n",
    "df_full_train = pd.concat([train_df, val_df])\n",
    "y_full_train = np.concatenate([y_train, y_val])\n",
    "\n",
    "X_full_train = fill_zero(df_full_train, 'reviews_per_month')\n",
    "\n",
    "w_0, w = train_linear_regression_reg(X_full_train, y_full_train, r=0)\n",
    "\n",
    "X_test = fill_zero(test_df, 'reviews_per_month')\n",
    "\n",
    "y_pred = predict(X_test, w_0, w)\n",
    "score = rmse(y_test, y_pred)\n",
    "print(\"test score\",  score)"
   ]
  },
  {
   "cell_type": "markdown",
   "id": "07993151-057e-4ee3-b2a1-73e9d429dedb",
   "metadata": {},
   "source": [
    "Although not a very good score, the model works better with the test data"
   ]
  }
 ],
 "metadata": {
  "kernelspec": {
   "display_name": "Python 3 (ipykernel)",
   "language": "python",
   "name": "python3"
  },
  "language_info": {
   "codemirror_mode": {
    "name": "ipython",
    "version": 3
   },
   "file_extension": ".py",
   "mimetype": "text/x-python",
   "name": "python",
   "nbconvert_exporter": "python",
   "pygments_lexer": "ipython3",
   "version": "3.9.7"
  }
 },
 "nbformat": 4,
 "nbformat_minor": 5
}
