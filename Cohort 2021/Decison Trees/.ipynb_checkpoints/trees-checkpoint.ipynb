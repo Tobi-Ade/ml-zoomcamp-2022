{
 "cells": [
  {
   "cell_type": "code",
   "execution_count": 1,
   "id": "90674a40-140f-4942-9877-1bf479e662e2",
   "metadata": {},
   "outputs": [],
   "source": [
    "\"\"\"\n",
    "importing necessary libraries\n",
    "\"\"\"\n",
    "import matplotlib.pyplot as plt\n",
    "from sklearn.model_selection import train_test_split\n",
    "from sklearn.feature_extraction import DictVectorizer\n",
    "from sklearn.ensemble import RandomForestRegressor\n",
    "from sklearn.tree import DecisionTreeRegressor\n",
    "from sklearn.metrics import mean_squared_error\n",
    "from sklearn.tree import export_text\n",
    "import seaborn as sns\n",
    "import xgboost as xgb\n",
    "import pandas as pd\n",
    "import numpy as np\n",
    "%matplotlib inline"
   ]
  },
  {
   "cell_type": "code",
   "execution_count": 2,
   "id": "e7ef151e-39d5-4a93-bcd9-9ada3a8c6971",
   "metadata": {},
   "outputs": [
    {
     "data": {
      "text/html": [
       "<div>\n",
       "<style scoped>\n",
       "    .dataframe tbody tr th:only-of-type {\n",
       "        vertical-align: middle;\n",
       "    }\n",
       "\n",
       "    .dataframe tbody tr th {\n",
       "        vertical-align: top;\n",
       "    }\n",
       "\n",
       "    .dataframe thead th {\n",
       "        text-align: right;\n",
       "    }\n",
       "</style>\n",
       "<table border=\"1\" class=\"dataframe\">\n",
       "  <thead>\n",
       "    <tr style=\"text-align: right;\">\n",
       "      <th></th>\n",
       "      <th>neighbourhood_group</th>\n",
       "      <th>latitude</th>\n",
       "      <th>longitude</th>\n",
       "      <th>room_type</th>\n",
       "      <th>price</th>\n",
       "      <th>minimum_nights</th>\n",
       "      <th>number_of_reviews</th>\n",
       "      <th>reviews_per_month</th>\n",
       "      <th>calculated_host_listings_count</th>\n",
       "      <th>availability_365</th>\n",
       "    </tr>\n",
       "  </thead>\n",
       "  <tbody>\n",
       "    <tr>\n",
       "      <th>0</th>\n",
       "      <td>Brooklyn</td>\n",
       "      <td>40.64749</td>\n",
       "      <td>-73.97237</td>\n",
       "      <td>Private room</td>\n",
       "      <td>5.010635</td>\n",
       "      <td>1</td>\n",
       "      <td>9</td>\n",
       "      <td>0.21</td>\n",
       "      <td>6</td>\n",
       "      <td>365</td>\n",
       "    </tr>\n",
       "    <tr>\n",
       "      <th>1</th>\n",
       "      <td>Manhattan</td>\n",
       "      <td>40.75362</td>\n",
       "      <td>-73.98377</td>\n",
       "      <td>Entire home/apt</td>\n",
       "      <td>5.420535</td>\n",
       "      <td>1</td>\n",
       "      <td>45</td>\n",
       "      <td>0.38</td>\n",
       "      <td>2</td>\n",
       "      <td>355</td>\n",
       "    </tr>\n",
       "    <tr>\n",
       "      <th>2</th>\n",
       "      <td>Manhattan</td>\n",
       "      <td>40.80902</td>\n",
       "      <td>-73.94190</td>\n",
       "      <td>Private room</td>\n",
       "      <td>5.017280</td>\n",
       "      <td>3</td>\n",
       "      <td>0</td>\n",
       "      <td>0.00</td>\n",
       "      <td>1</td>\n",
       "      <td>365</td>\n",
       "    </tr>\n",
       "    <tr>\n",
       "      <th>3</th>\n",
       "      <td>Brooklyn</td>\n",
       "      <td>40.68514</td>\n",
       "      <td>-73.95976</td>\n",
       "      <td>Entire home/apt</td>\n",
       "      <td>4.499810</td>\n",
       "      <td>1</td>\n",
       "      <td>270</td>\n",
       "      <td>4.64</td>\n",
       "      <td>1</td>\n",
       "      <td>194</td>\n",
       "    </tr>\n",
       "    <tr>\n",
       "      <th>4</th>\n",
       "      <td>Manhattan</td>\n",
       "      <td>40.79851</td>\n",
       "      <td>-73.94399</td>\n",
       "      <td>Entire home/apt</td>\n",
       "      <td>4.394449</td>\n",
       "      <td>10</td>\n",
       "      <td>9</td>\n",
       "      <td>0.10</td>\n",
       "      <td>1</td>\n",
       "      <td>0</td>\n",
       "    </tr>\n",
       "  </tbody>\n",
       "</table>\n",
       "</div>"
      ],
      "text/plain": [
       "  neighbourhood_group  latitude  longitude        room_type     price  \\\n",
       "0            Brooklyn  40.64749  -73.97237     Private room  5.010635   \n",
       "1           Manhattan  40.75362  -73.98377  Entire home/apt  5.420535   \n",
       "2           Manhattan  40.80902  -73.94190     Private room  5.017280   \n",
       "3            Brooklyn  40.68514  -73.95976  Entire home/apt  4.499810   \n",
       "4           Manhattan  40.79851  -73.94399  Entire home/apt  4.394449   \n",
       "\n",
       "   minimum_nights  number_of_reviews  reviews_per_month  \\\n",
       "0               1                  9               0.21   \n",
       "1               1                 45               0.38   \n",
       "2               3                  0               0.00   \n",
       "3               1                270               4.64   \n",
       "4              10                  9               0.10   \n",
       "\n",
       "   calculated_host_listings_count  availability_365  \n",
       "0                               6               365  \n",
       "1                               2               355  \n",
       "2                               1               365  \n",
       "3                               1               194  \n",
       "4                               1                 0  "
      ]
     },
     "execution_count": 2,
     "metadata": {},
     "output_type": "execute_result"
    }
   ],
   "source": [
    "\"\"\"\n",
    "reading the data\n",
    "\"\"\"\n",
    "columns = [\n",
    "    'neighbourhood_group', 'room_type', 'latitude', 'longitude',\n",
    "    'minimum_nights', 'number_of_reviews','reviews_per_month',\n",
    "    'calculated_host_listings_count', 'availability_365',\n",
    "    'price'\n",
    "]\n",
    "\n",
    "df = pd.read_csv('AB_NYC_2019.csv', usecols=columns)\n",
    "df.reviews_per_month = df.reviews_per_month.fillna(0)\n",
    "df['price'] = np.log1p(df['price'])\n",
    "\n",
    "df.head()"
   ]
  },
  {
   "cell_type": "code",
   "execution_count": 3,
   "id": "0d03d893-f4cf-4c93-ad5e-ba70325ab0b2",
   "metadata": {},
   "outputs": [],
   "source": [
    "\"\"\"\n",
    "splitting the data\n",
    "\"\"\"\n",
    "df_full_train, df_val = train_test_split(df, test_size=0.2, random_state=1)\n",
    "df_train, df_test = train_test_split(df_full_train, test_size=0.2, random_state=1)\n",
    "\n",
    "y_full_train = df_full_train.price.values\n",
    "y_train = df_train.price.values\n",
    "y_val = df_val.price.values\n",
    "y_test = df_test.price.values\n",
    "\n",
    "del df_train['price']\n",
    "del df_val['price']\n",
    "del df_test['price']"
   ]
  },
  {
   "cell_type": "code",
   "execution_count": 4,
   "id": "2036a3a8-871e-4b0e-9820-52e8f1d4c49e",
   "metadata": {},
   "outputs": [],
   "source": [
    "\"\"\"\n",
    "one hot encoding \n",
    "\"\"\"\n",
    "dv = DictVectorizer(sparse=False)\n",
    "\n",
    "train_dict = df_train.to_dict(orient='records')\n",
    "X_train = dv.fit_transform(train_dict)\n",
    "\n",
    "val_dict = df_val.to_dict(orient='records')\n",
    "X_val = dv.transform(val_dict)"
   ]
  },
  {
   "cell_type": "code",
   "execution_count": 5,
   "id": "8e26db2a-2a28-4a9e-9547-084f47ad8b81",
   "metadata": {},
   "outputs": [
    {
     "data": {
      "text/plain": [
       "DecisionTreeRegressor(max_depth=1)"
      ]
     },
     "execution_count": 5,
     "metadata": {},
     "output_type": "execute_result"
    }
   ],
   "source": [
    "\"\"\"\n",
    "training a decision tree model\n",
    "\"\"\"\n",
    "dt = DecisionTreeRegressor(max_depth=1)\n",
    "\n",
    "dt.fit(X_train, y_train)"
   ]
  },
  {
   "cell_type": "code",
   "execution_count": 6,
   "id": "4d83f0d4-73ab-4624-a87e-4a42c758eac5",
   "metadata": {},
   "outputs": [
    {
     "name": "stdout",
     "output_type": "stream",
     "text": [
      "|--- room_type=Entire home/apt <= 0.50\n",
      "|   |--- value: [4.29]\n",
      "|--- room_type=Entire home/apt >  0.50\n",
      "|   |--- value: [5.15]\n",
      "\n"
     ]
    }
   ],
   "source": [
    "\"\"\"\n",
    "Visualizing training logic with export text \n",
    "\"\"\"\n",
    "print(export_text(dt, feature_names=dv.get_feature_names()))"
   ]
  },
  {
   "cell_type": "code",
   "execution_count": 7,
   "id": "2e9e2705-e37d-4238-b4f9-6b25fa152c04",
   "metadata": {},
   "outputs": [
    {
     "data": {
      "text/plain": [
       "0.4713326236900489"
      ]
     },
     "execution_count": 7,
     "metadata": {},
     "output_type": "execute_result"
    }
   ],
   "source": [
    "\"\"\"\n",
    "training and testing with random forests\n",
    "\"\"\"\n",
    "rf = RandomForestRegressor(n_estimators=10, random_state=1, n_jobs=-1)\n",
    "rf.fit(X_train, y_train)\n",
    "y_pred = rf.predict(X_val)\n",
    "\n",
    "#checking rmse on validation data\n",
    "mse = mean_squared_error\n",
    "score = np.sqrt(mse(y_val, y_pred))\n",
    "score"
   ]
  },
  {
   "cell_type": "code",
   "execution_count": 8,
   "id": "27d42c67-bf2f-40b3-8718-4dce163b4776",
   "metadata": {},
   "outputs": [
    {
     "data": {
      "text/plain": [
       "[<matplotlib.lines.Line2D at 0x22500176640>]"
      ]
     },
     "execution_count": 8,
     "metadata": {},
     "output_type": "execute_result"
    },
    {
     "data": {
      "image/png": "[encoded data removed]",
      "text/plain": [
       "<Figure size 432x288 with 1 Axes>"
      ]
     },
     "metadata": {
      "needs_background": "light"
     },
     "output_type": "display_data"
    }
   ],
   "source": [
    "\"\"\"\n",
    "Checking accuracy for different nummber of estimatorsaa \n",
    "\"\"\"\n",
    "scores = []\n",
    "for n in range(10, 200, 10):\n",
    "    rf = RandomForestRegressor(n_estimators=n, random_state=1, n_jobs=-1)\n",
    "    rf.fit(X_train, y_train)\n",
    "    y_pred = rf.predict(X_val)\n",
    "    score = np.sqrt(mse(y_val, y_pred))\n",
    "    scores.append((n, score))\n",
    "\n",
    "#creating a dataframe with the scores for each n\n",
    "df_scores = pd.DataFrame(scores, columns=['estimator', 'score'])\n",
    "\n",
    "#plotting the result \n",
    "plt.plot(df_scores.estimator, df_scores.score)"
   ]
  },
  {
   "cell_type": "markdown",
   "id": "fe00ac7c-3511-4837-9415-e72c8ea45e1f",
   "metadata": {},
   "source": [
    "rmse stops improving at n_estimator value of 120"
   ]
  },
  {
   "cell_type": "code",
   "execution_count": 9,
   "id": "6e668908-1556-49a8-a42d-30d3ec2a84e4",
   "metadata": {},
   "outputs": [],
   "source": [
    "\"\"\"\n",
    "Checking accuracy for different max_depth values\n",
    "\"\"\"\n",
    "scores = []\n",
    "for d in [10, 15, 20, 25]:\n",
    "    for n in range(10, 200, 10):    \n",
    "        rf = RandomForestRegressor(n_estimators=n, random_state=1, n_jobs=-1, max_depth=d)\n",
    "        rf.fit(X_train, y_train)\n",
    "        y_pred = rf.predict(X_val)\n",
    "        score = np.sqrt(mse(y_val, y_pred))\n",
    "        scores.append((n, d, score))"
   ]
  },
  {
   "cell_type": "code",
   "execution_count": 10,
   "id": "d9985cad-bd9e-49f7-84fc-b366f8a237ac",
   "metadata": {
    "tags": []
   },
   "outputs": [],
   "source": [
    "#creating a dataframe with the scores for each d\n",
    "df_depth = pd.DataFrame(scores, columns=['estimator', 'depth', 'score'])"
   ]
  },
  {
   "cell_type": "code",
   "execution_count": 11,
   "id": "75105dce-f06a-488b-960e-67e0e94d8c7c",
   "metadata": {},
   "outputs": [
    {
     "data": {
      "image/png": "[encoded data removed]",
      "text/plain": [
       "<Figure size 432x288 with 1 Axes>"
      ]
     },
     "metadata": {
      "needs_background": "light"
     },
     "output_type": "display_data"
    }
   ],
   "source": [
    "\"\"\"\n",
    "plotting the result \n",
    "\"\"\"\n",
    "for d in [10, 15, 20, 25]:\n",
    "    df_sub = df_depth[df_depth.depth == d]\n",
    "    plt.plot(df_sub.estimator, df_sub.score, label=d )\n",
    "    plt.legend()"
   ]
  },
  {
   "cell_type": "markdown",
   "id": "4d077551-0662-482e-ad03-90180a118d09",
   "metadata": {},
   "source": [
    "The best max depth is 15"
   ]
  },
  {
   "cell_type": "code",
   "execution_count": 12,
   "id": "b347f5c6-e4f6-4e67-a438-11869d14d7f0",
   "metadata": {},
   "outputs": [
    {
     "data": {
      "text/html": [
       "<div>\n",
       "<style scoped>\n",
       "    .dataframe tbody tr th:only-of-type {\n",
       "        vertical-align: middle;\n",
       "    }\n",
       "\n",
       "    .dataframe tbody tr th {\n",
       "        vertical-align: top;\n",
       "    }\n",
       "\n",
       "    .dataframe thead th {\n",
       "        text-align: right;\n",
       "    }\n",
       "</style>\n",
       "<table border=\"1\" class=\"dataframe\">\n",
       "  <thead>\n",
       "    <tr style=\"text-align: right;\">\n",
       "      <th></th>\n",
       "      <th>feature</th>\n",
       "      <th>importance</th>\n",
       "    </tr>\n",
       "  </thead>\n",
       "  <tbody>\n",
       "    <tr>\n",
       "      <th>12</th>\n",
       "      <td>room_type=Entire home/apt</td>\n",
       "      <td>0.392559</td>\n",
       "    </tr>\n",
       "    <tr>\n",
       "      <th>3</th>\n",
       "      <td>longitude</td>\n",
       "      <td>0.157973</td>\n",
       "    </tr>\n",
       "    <tr>\n",
       "      <th>2</th>\n",
       "      <td>latitude</td>\n",
       "      <td>0.146059</td>\n",
       "    </tr>\n",
       "    <tr>\n",
       "      <th>0</th>\n",
       "      <td>availability_365</td>\n",
       "      <td>0.075834</td>\n",
       "    </tr>\n",
       "    <tr>\n",
       "      <th>4</th>\n",
       "      <td>minimum_nights</td>\n",
       "      <td>0.053561</td>\n",
       "    </tr>\n",
       "  </tbody>\n",
       "</table>\n",
       "</div>"
      ],
      "text/plain": [
       "                      feature  importance\n",
       "12  room_type=Entire home/apt    0.392559\n",
       "3                   longitude    0.157973\n",
       "2                    latitude    0.146059\n",
       "0            availability_365    0.075834\n",
       "4              minimum_nights    0.053561"
      ]
     },
     "execution_count": 12,
     "metadata": {},
     "output_type": "execute_result"
    }
   ],
   "source": [
    "\"\"\"\n",
    "Getting feature importance for the model\n",
    "\"\"\"\n",
    "rf = RandomForestRegressor(n_estimators=10, random_state=1, n_jobs=-1, max_depth=20)\n",
    "rf.fit(X_train, y_train)\n",
    "rf.feature_importances_\n",
    "\n",
    "df_importances = pd.DataFrame()\n",
    "\n",
    "df_importances['feature'] = dv.get_feature_names()\n",
    "df_importances['importance'] = rf.feature_importances_\n",
    "df_importances.sort_values(by='importance', ascending=False).head()"
   ]
  },
  {
   "cell_type": "markdown",
   "id": "b3eee5f4-0202-4085-b776-1cde89bc1af0",
   "metadata": {},
   "source": [
    "The most important feature is room_type=Entire home/apt"
   ]
  },
  {
   "cell_type": "code",
   "execution_count": 13,
   "id": "1d6a1ed5-d3b0-45e6-b39f-59d76a9e00fa",
   "metadata": {},
   "outputs": [],
   "source": [
    "\"\"\"\n",
    "preparing data for xgboost training\n",
    "\"\"\"\n",
    "features = dv.get_feature_names()\n",
    "dtrain = xgb.DMatrix(X_train, label=y_train, feature_names=features)\n",
    "dval = xgb.DMatrix(X_val, label=y_val, feature_names=features)\n",
    "watchlist = [(dtrain, 'train'), (dval, 'val')]"
   ]
  },
  {
   "cell_type": "code",
   "execution_count": 14,
   "id": "4eecdf1f-f4fb-40b0-a2e3-fe3106786d8a",
   "metadata": {},
   "outputs": [],
   "source": [
    "def parse_output(output):\n",
    "    \"\"\"\n",
    "    This function creates a dataframe with the output of the xgb model\n",
    "    params: model output\n",
    "    returns: dataframe of train and val scores for each iteration\n",
    "    rtype: pandas dataframe\n",
    "    \"\"\"\n",
    "    scores = []\n",
    "    for line in output.stdout.strip().split('\\n'):\n",
    "        count, train, val = line.split('\\t')\n",
    "        num = int(count.strip('[]'))\n",
    "        t = float(train.split(':')[1])\n",
    "        v = float(val.split(':')[1])\n",
    "\n",
    "        scores.append((num, t, v))\n",
    "    columns=['iter', 'train_auc', 'val_auc']\n",
    "    df_it = pd.DataFrame(scores, columns=columns)\n",
    "    return df_it"
   ]
  },
  {
   "cell_type": "code",
   "execution_count": 15,
   "id": "7b03de9e-b2f7-45dc-a2e3-a62c89a10910",
   "metadata": {},
   "outputs": [],
   "source": [
    "\"\"\"\n",
    "creating dictionary to store output for different eta values\n",
    "\"\"\"\n",
    "scores_dict = {}"
   ]
  },
  {
   "cell_type": "code",
   "execution_count": 16,
   "id": "82a21915-a40d-40c5-8fdf-f7ea448b5110",
   "metadata": {},
   "outputs": [],
   "source": [
    "%%capture output \n",
    "\"\"\"\n",
    "Training model with eta = 0.3\n",
    "\"\"\"\n",
    "xgb_params = {\n",
    "    'eta': 0.3, \n",
    "    'max_depth': 6,\n",
    "    'min_child_weight': 1,\n",
    "    \n",
    "    'objective': 'reg:squarederror',\n",
    "    'nthread': 8,\n",
    "    \n",
    "    'seed': 1,\n",
    "    'verbosity': 1,\n",
    "}\n",
    "\n",
    "model = xgb.train(xgb_params, dtrain, num_boost_round=100,\n",
    "                  verbose_eval=5, evals=watchlist)"
   ]
  },
  {
   "cell_type": "code",
   "execution_count": 17,
   "id": "01283173-15de-4546-8808-131f0b9fe8ec",
   "metadata": {},
   "outputs": [],
   "source": [
    "#storing model results for eta 0.3\n",
    "scores_dict['eta = 0.3'] = parse_output(output)"
   ]
  },
  {
   "cell_type": "code",
   "execution_count": 18,
   "id": "1dff11ed-7a7e-4133-b3d2-f6de802efa1b",
   "metadata": {},
   "outputs": [],
   "source": [
    "%%capture output \n",
    "\"\"\"\n",
    "Training model with eta = 0.1\n",
    "\"\"\"\n",
    "xgb_params = {\n",
    "    'eta': 0.1, \n",
    "    'max_depth': 6,\n",
    "    'min_child_weight': 1,\n",
    "    \n",
    "    'objective': 'reg:squarederror',\n",
    "    'nthread': 8,\n",
    "    \n",
    "    'seed': 1,\n",
    "    'verbosity': 1,\n",
    "}\n",
    "\n",
    "model = xgb.train(xgb_params, dtrain, num_boost_round=100,\n",
    "                  verbose_eval=5, evals=watchlist)"
   ]
  },
  {
   "cell_type": "code",
   "execution_count": 19,
   "id": "49c8f559-61a7-4452-a0ed-844544259b17",
   "metadata": {},
   "outputs": [],
   "source": [
    "#storing model results for eta 0.1\n",
    "scores_dict['eta = 0.1'] = parse_output(output)"
   ]
  },
  {
   "cell_type": "code",
   "execution_count": 20,
   "id": "fe0d7016-1383-47d9-9999-283561af5bec",
   "metadata": {},
   "outputs": [],
   "source": [
    "%%capture output \n",
    "\"\"\"\n",
    "Training model with eta = 0.01\n",
    "\"\"\"\n",
    "xgb_params = {\n",
    "    'eta': 0.01, \n",
    "    'max_depth': 6,\n",
    "    'min_child_weight': 1,\n",
    "    \n",
    "    'objective': 'reg:squarederror',\n",
    "    'nthread': 8,\n",
    "    \n",
    "    'seed': 1,\n",
    "    'verbosity': 1,\n",
    "}\n",
    "\n",
    "model = xgb.train(xgb_params, dtrain, num_boost_round=100,\n",
    "                  verbose_eval=5, evals=watchlist)"
   ]
  },
  {
   "cell_type": "code",
   "execution_count": 21,
   "id": "8ab4351a-195c-484a-810b-05f619e5fe4b",
   "metadata": {},
   "outputs": [],
   "source": [
    "#storing model results for eta 0.01\n",
    "scores_dict['eta = 0.01'] = parse_output(output)"
   ]
  },
  {
   "cell_type": "code",
   "execution_count": 47,
   "id": "64949ba8-c7a0-4161-b53e-e2176c299087",
   "metadata": {},
   "outputs": [
    {
     "data": {
      "text/plain": [
       "(40.0, 103.95)"
      ]
     },
     "execution_count": 47,
     "metadata": {},
     "output_type": "execute_result"
    },
    {
     "data": {
      "image/png": "[encoded data removed]",
      "text/plain": [
       "<Figure size 432x288 with 1 Axes>"
      ]
     },
     "metadata": {
      "needs_background": "light"
     },
     "output_type": "display_data"
    }
   ],
   "source": [
    "\"\"\"\n",
    "Finding the best eta\n",
    "\"\"\"\n",
    "plt.plot(scores_dict['eta = 0.3'].iter, scores_dict['eta = 0.3'].val_auc, label='0.3')\n",
    "plt.plot(scores_dict['eta = 0.1'].iter, scores_dict['eta = 0.1'].val_auc, label='0.1')\n",
    "plt.plot(scores_dict['eta = 0.01'].iter, scores_dict['eta = 0.01'].val_auc, label='0.01')\n",
    "plt.legend()\n",
    "plt.ylim(0.4, 0.5)\n",
    "plt.xlim(40)"
   ]
  },
  {
   "cell_type": "markdown",
   "id": "83d33aef-fbe7-41cf-a361-7d06a266e8e2",
   "metadata": {},
   "source": [
    "The best eta is 0.1"
   ]
  }
 ],
 "metadata": {
  "kernelspec": {
   "display_name": "Python 3 (ipykernel)",
   "language": "python",
   "name": "python3"
  },
  "language_info": {
   "codemirror_mode": {
    "name": "ipython",
    "version": 3
   },
   "file_extension": ".py",
   "mimetype": "text/x-python",
   "name": "python",
   "nbconvert_exporter": "python",
   "pygments_lexer": "ipython3",
   "version": "3.9.7"
  }
 },
 "nbformat": 4,
 "nbformat_minor": 5
}
