{
 "cells": [
  {
   "cell_type": "code",
   "execution_count": 1,
   "id": "bb5c041e-574f-49b7-b2c9-a92e62e7e101",
   "metadata": {},
   "outputs": [],
   "source": [
    "\"\"\"\n",
    "importing the necessary libraries\n",
    "\"\"\"\n",
    "import pandas as pd\n",
    "import numpy as np\n",
    "import matplotlib.pyplot as plt\n",
    "import seaborn as sns\n",
    "%matplotlib inline\n",
    "from sklearn.model_selection import train_test_split\n",
    "from sklearn.metrics import roc_auc_score\n",
    "from sklearn.linear_model import LogisticRegression\n",
    "from sklearn.feature_extraction import DictVectorizer"
   ]
  },
  {
   "cell_type": "code",
   "execution_count": 2,
   "id": "8283a0be-ce95-4fe7-9225-97dc37dc99f1",
   "metadata": {},
   "outputs": [],
   "source": [
    "df = pd.read_csv('AER_credit_card_data.csv')"
   ]
  },
  {
   "cell_type": "code",
   "execution_count": 3,
   "id": "42387d19-c1e4-4ece-bc27-d2006230916d",
   "metadata": {},
   "outputs": [
    {
     "data": {
      "text/html": [
       "<div>\n",
       "<style scoped>\n",
       "    .dataframe tbody tr th:only-of-type {\n",
       "        vertical-align: middle;\n",
       "    }\n",
       "\n",
       "    .dataframe tbody tr th {\n",
       "        vertical-align: top;\n",
       "    }\n",
       "\n",
       "    .dataframe thead th {\n",
       "        text-align: right;\n",
       "    }\n",
       "</style>\n",
       "<table border=\"1\" class=\"dataframe\">\n",
       "  <thead>\n",
       "    <tr style=\"text-align: right;\">\n",
       "      <th></th>\n",
       "      <th>card</th>\n",
       "      <th>reports</th>\n",
       "      <th>age</th>\n",
       "      <th>income</th>\n",
       "      <th>share</th>\n",
       "      <th>expenditure</th>\n",
       "      <th>owner</th>\n",
       "      <th>selfemp</th>\n",
       "      <th>dependents</th>\n",
       "      <th>months</th>\n",
       "      <th>majorcards</th>\n",
       "      <th>active</th>\n",
       "    </tr>\n",
       "  </thead>\n",
       "  <tbody>\n",
       "    <tr>\n",
       "      <th>0</th>\n",
       "      <td>yes</td>\n",
       "      <td>0</td>\n",
       "      <td>37.66667</td>\n",
       "      <td>4.5200</td>\n",
       "      <td>0.033270</td>\n",
       "      <td>124.983300</td>\n",
       "      <td>yes</td>\n",
       "      <td>no</td>\n",
       "      <td>3</td>\n",
       "      <td>54</td>\n",
       "      <td>1</td>\n",
       "      <td>12</td>\n",
       "    </tr>\n",
       "    <tr>\n",
       "      <th>1</th>\n",
       "      <td>yes</td>\n",
       "      <td>0</td>\n",
       "      <td>33.25000</td>\n",
       "      <td>2.4200</td>\n",
       "      <td>0.005217</td>\n",
       "      <td>9.854167</td>\n",
       "      <td>no</td>\n",
       "      <td>no</td>\n",
       "      <td>3</td>\n",
       "      <td>34</td>\n",
       "      <td>1</td>\n",
       "      <td>13</td>\n",
       "    </tr>\n",
       "    <tr>\n",
       "      <th>2</th>\n",
       "      <td>yes</td>\n",
       "      <td>0</td>\n",
       "      <td>33.66667</td>\n",
       "      <td>4.5000</td>\n",
       "      <td>0.004156</td>\n",
       "      <td>15.000000</td>\n",
       "      <td>yes</td>\n",
       "      <td>no</td>\n",
       "      <td>4</td>\n",
       "      <td>58</td>\n",
       "      <td>1</td>\n",
       "      <td>5</td>\n",
       "    </tr>\n",
       "    <tr>\n",
       "      <th>3</th>\n",
       "      <td>yes</td>\n",
       "      <td>0</td>\n",
       "      <td>30.50000</td>\n",
       "      <td>2.5400</td>\n",
       "      <td>0.065214</td>\n",
       "      <td>137.869200</td>\n",
       "      <td>no</td>\n",
       "      <td>no</td>\n",
       "      <td>0</td>\n",
       "      <td>25</td>\n",
       "      <td>1</td>\n",
       "      <td>7</td>\n",
       "    </tr>\n",
       "    <tr>\n",
       "      <th>4</th>\n",
       "      <td>yes</td>\n",
       "      <td>0</td>\n",
       "      <td>32.16667</td>\n",
       "      <td>9.7867</td>\n",
       "      <td>0.067051</td>\n",
       "      <td>546.503300</td>\n",
       "      <td>yes</td>\n",
       "      <td>no</td>\n",
       "      <td>2</td>\n",
       "      <td>64</td>\n",
       "      <td>1</td>\n",
       "      <td>5</td>\n",
       "    </tr>\n",
       "  </tbody>\n",
       "</table>\n",
       "</div>"
      ],
      "text/plain": [
       "  card  reports       age  income     share  expenditure owner selfemp  \\\n",
       "0  yes        0  37.66667  4.5200  0.033270   124.983300   yes      no   \n",
       "1  yes        0  33.25000  2.4200  0.005217     9.854167    no      no   \n",
       "2  yes        0  33.66667  4.5000  0.004156    15.000000   yes      no   \n",
       "3  yes        0  30.50000  2.5400  0.065214   137.869200    no      no   \n",
       "4  yes        0  32.16667  9.7867  0.067051   546.503300   yes      no   \n",
       "\n",
       "   dependents  months  majorcards  active  \n",
       "0           3      54           1      12  \n",
       "1           3      34           1      13  \n",
       "2           4      58           1       5  \n",
       "3           0      25           1       7  \n",
       "4           2      64           1       5  "
      ]
     },
     "execution_count": 3,
     "metadata": {},
     "output_type": "execute_result"
    }
   ],
   "source": [
    "df.head()"
   ]
  },
  {
   "cell_type": "code",
   "execution_count": 4,
   "id": "339dc9e0-4a08-4372-970e-9be1874f0d9b",
   "metadata": {},
   "outputs": [],
   "source": [
    "\"\"\"\n",
    "Encoding target column\n",
    "\"\"\"\n",
    "card = {\n",
    "    'yes' : 1,\n",
    "    'no' : 0\n",
    "}\n",
    "df.card = df.card.map(card)"
   ]
  },
  {
   "cell_type": "code",
   "execution_count": 5,
   "id": "2c808a80-b4d4-42dc-8e57-7dbcaf9b349d",
   "metadata": {
    "tags": []
   },
   "outputs": [],
   "source": [
    "\"\"\"\n",
    "Splitting the data\n",
    "\"\"\"\n",
    "df_full_train, df_test = train_test_split(df, test_size=0.2, random_state=1)\n",
    "df_train, df_val = train_test_split(df_full_train, test_size=0.25, random_state=1)\n",
    "\n",
    "y_train = df_train.card\n",
    "y_val = df_val.card\n",
    "y_test = df_test.card"
   ]
  },
  {
   "cell_type": "code",
   "execution_count": 6,
   "id": "14000377-6d54-4c01-90f4-756d102b43d3",
   "metadata": {},
   "outputs": [
    {
     "name": "stdout",
     "output_type": "stream",
     "text": [
      "reports: 0.72\n",
      "age: 0.52\n",
      "income: 0.59\n",
      "share: 0.99\n",
      "expenditure: 0.99\n",
      "dependents: 0.53\n",
      "months: 0.53\n",
      "majorcards: 0.53\n",
      "active: 0.6\n"
     ]
    }
   ],
   "source": [
    "\"\"\"\n",
    "Evaluating feature importance of numerical columns with auc score\n",
    "\"\"\"\n",
    "numerical = df.columns[df.dtypes != 'object']\n",
    "\n",
    "num = numerical.copy()\n",
    "num = num.drop('card')\n",
    "for feature in num:\n",
    "    auc_score = round(roc_auc_score(df_train['card'], df_train[feature]),2)\n",
    "    if auc_score < 0.5:\n",
    "        auc_score = round(roc_auc_score(df_train['card'], -df_train[feature]),2)\n",
    "    print(feature+\":\", auc_score)"
   ]
  },
  {
   "cell_type": "markdown",
   "id": "bba850b5-d3cb-43cd-bd7a-2608ed9ee2d0",
   "metadata": {},
   "source": [
    "The feature with the highest auc score is **reports**"
   ]
  },
  {
   "cell_type": "code",
   "execution_count": 7,
   "id": "8e7b401c-0786-4b23-8d78-94f750149234",
   "metadata": {},
   "outputs": [],
   "source": [
    "\"\"\"\n",
    "creating training and validation data with selected columns \n",
    "\"\"\"\n",
    "columns = [\"reports\", \"age\", \"income\", \"share\", \"expenditure\", \n",
    "           \"dependents\", \"months\", \"majorcards\", \"active\", \"owner\", \"selfemp\"]\n",
    "\n",
    "train_slice_df = df_train[columns]\n",
    "val_slice_df = df_val[columns]"
   ]
  },
  {
   "cell_type": "code",
   "execution_count": 8,
   "id": "5df9c5c0-48e8-443a-a37b-c48d56c425df",
   "metadata": {},
   "outputs": [
    {
     "data": {
      "text/plain": [
       "0.995"
      ]
     },
     "execution_count": 8,
     "metadata": {},
     "output_type": "execute_result"
    }
   ],
   "source": [
    "\"\"\"\n",
    "Training and evaluating a logistic regression  model with auc\n",
    "\"\"\"\n",
    "#DictVectorizer performs one hot enconding on categorical columns\n",
    "dv = DictVectorizer()\n",
    "\n",
    "#creating an instance of the logistic regression model\n",
    "model = LogisticRegression(solver='liblinear', C=1.0, max_iter=1000)\n",
    "\n",
    "#convert train data to dictionary\n",
    "train_slice_dict = train_slice_df.to_dict(orient='records')\n",
    "\n",
    "#one hot encoding \n",
    "X_train = dv.fit_transform(train_slice_dict)\n",
    "\n",
    "#specifying target values\n",
    "y_train = df_train['card'].values\n",
    "\n",
    "#Training the model \n",
    "model.fit(X_train, y_train)\n",
    "\n",
    "#convert validation data to dictionary\n",
    "val_slice_dict = val_slice_df.to_dict(orient='records')\n",
    "\n",
    "#one hot encoding \n",
    "X_val = dv.transform(val_slice_dict)\n",
    "\n",
    "y_val = df_val['card'].values\n",
    "\n",
    "#model predictions for the validation data\n",
    "y_pred = model.predict_proba(X_val)[:,1]\n",
    "\n",
    "#cchecking model performance with auc score\n",
    "score = round(roc_auc_score(y_val, y_pred), 3)\n",
    "score"
   ]
  },
  {
   "cell_type": "code",
   "execution_count": 9,
   "id": "25e87c89-508b-4c79-862d-d3ed875bfa6f",
   "metadata": {},
   "outputs": [],
   "source": [
    "scores = []\n",
    "def find_scores(y_val, y_pred, t):\n",
    "    \"\"\"\n",
    "    This function computes evaluated scores for a specified treshold of a model,\n",
    "    and appends computed scores to a list\n",
    "    params:original values, predicted values, thresholds\n",
    "    returns: list t, precison, recall\n",
    "    rtype:pandas dataframe\n",
    "    \"\"\"\n",
    "    tp = ((y_pred >= t ) & (y_val == 1)).sum()\n",
    "    fp = ((y_pred >= t ) & (y_val == 0)).sum()\n",
    "    tn = ((y_pred < t ) & (y_val == 0)).sum()\n",
    "    fn = ((y_pred < t ) & (y_val == 1)).sum()\n",
    "    \n",
    "    p = tp / (tp + fp)\n",
    "    r = tp / (tp + fn)     \n",
    "    \n",
    "    scores.append((t, tp, tn, fp, fn, p, r))            "
   ]
  },
  {
   "cell_type": "code",
   "execution_count": 10,
   "id": "42aeee26-7305-4285-a4bd-e507e43e0a29",
   "metadata": {},
   "outputs": [],
   "source": [
    "\"\"\"\n",
    "Evaluating precision and recall for specific thresholds,\n",
    "and creating a dataframe with computed values\n",
    "\"\"\"\n",
    "thresholds = np.arange(0.0, 1.0, 0.01)\n",
    "\n",
    "for t in thresholds:\n",
    "     find_scores(y_val, y_pred, t)\n",
    "\n",
    "df_scores = pd.DataFrame(scores, columns=(['t', 'tp', 'tn','fp', 'fn', 'p', 'r'])) "
   ]
  },
  {
   "cell_type": "code",
   "execution_count": 11,
   "id": "d705b9b8-8c24-4085-b034-a5f756f2783a",
   "metadata": {},
   "outputs": [
    {
     "data": {
      "text/plain": [
       "(0.2, 0.4)"
      ]
     },
     "execution_count": 11,
     "metadata": {},
     "output_type": "execute_result"
    },
    {
     "data": {
      "image/png": "[encoded data removed]",
      "text/plain": [
       "<Figure size 432x288 with 1 Axes>"
      ]
     },
     "metadata": {
      "needs_background": "light"
     },
     "output_type": "display_data"
    }
   ],
   "source": [
    "\"\"\"\n",
    "Plotting precision and recall\n",
    "\"\"\"\n",
    "plt.plot(df_scores.t, df_scores.p, label='precision')\n",
    "plt.plot(df_scores.t, df_scores.r, label='recall')\n",
    "plt.legend()\n",
    "plt.xlabel('Threshold')\n",
    "plt.xlim(0.2, 0.4)"
   ]
  },
  {
   "cell_type": "markdown",
   "id": "8de96846-ab9a-4f98-9a22-8d50736c28fc",
   "metadata": {},
   "source": [
    "precison and recall intersect at a treshold of **0.3**"
   ]
  },
  {
   "cell_type": "code",
   "execution_count": 12,
   "id": "dc26884a-63ec-456d-b582-f002a9535591",
   "metadata": {},
   "outputs": [],
   "source": [
    "\"\"\"\n",
    "Computing f1 score for all thresholds\n",
    "\"\"\"\n",
    "df_scores['f1'] = (2 * df_scores['p'] * df_scores['r']) / (df_scores['p'] + df_scores['r'])"
   ]
  },
  {
   "cell_type": "code",
   "execution_count": 13,
   "id": "ddbe2292-bf65-49db-bc59-d685278ab75d",
   "metadata": {},
   "outputs": [
    {
     "name": "stdout",
     "output_type": "stream",
     "text": [
      "0.9832134292565947\n"
     ]
    },
    {
     "data": {
      "text/html": [
       "<div>\n",
       "<style scoped>\n",
       "    .dataframe tbody tr th:only-of-type {\n",
       "        vertical-align: middle;\n",
       "    }\n",
       "\n",
       "    .dataframe tbody tr th {\n",
       "        vertical-align: top;\n",
       "    }\n",
       "\n",
       "    .dataframe thead th {\n",
       "        text-align: right;\n",
       "    }\n",
       "</style>\n",
       "<table border=\"1\" class=\"dataframe\">\n",
       "  <thead>\n",
       "    <tr style=\"text-align: right;\">\n",
       "      <th></th>\n",
       "      <th>t</th>\n",
       "      <th>tp</th>\n",
       "      <th>tn</th>\n",
       "      <th>fp</th>\n",
       "      <th>fn</th>\n",
       "      <th>p</th>\n",
       "      <th>r</th>\n",
       "      <th>f1</th>\n",
       "    </tr>\n",
       "  </thead>\n",
       "  <tbody>\n",
       "    <tr>\n",
       "      <th>35</th>\n",
       "      <td>0.35</td>\n",
       "      <td>205</td>\n",
       "      <td>52</td>\n",
       "      <td>1</td>\n",
       "      <td>6</td>\n",
       "      <td>0.995146</td>\n",
       "      <td>0.971564</td>\n",
       "      <td>0.983213</td>\n",
       "    </tr>\n",
       "    <tr>\n",
       "      <th>36</th>\n",
       "      <td>0.36</td>\n",
       "      <td>205</td>\n",
       "      <td>52</td>\n",
       "      <td>1</td>\n",
       "      <td>6</td>\n",
       "      <td>0.995146</td>\n",
       "      <td>0.971564</td>\n",
       "      <td>0.983213</td>\n",
       "    </tr>\n",
       "    <tr>\n",
       "      <th>37</th>\n",
       "      <td>0.37</td>\n",
       "      <td>205</td>\n",
       "      <td>52</td>\n",
       "      <td>1</td>\n",
       "      <td>6</td>\n",
       "      <td>0.995146</td>\n",
       "      <td>0.971564</td>\n",
       "      <td>0.983213</td>\n",
       "    </tr>\n",
       "    <tr>\n",
       "      <th>38</th>\n",
       "      <td>0.38</td>\n",
       "      <td>205</td>\n",
       "      <td>52</td>\n",
       "      <td>1</td>\n",
       "      <td>6</td>\n",
       "      <td>0.995146</td>\n",
       "      <td>0.971564</td>\n",
       "      <td>0.983213</td>\n",
       "    </tr>\n",
       "    <tr>\n",
       "      <th>39</th>\n",
       "      <td>0.39</td>\n",
       "      <td>205</td>\n",
       "      <td>52</td>\n",
       "      <td>1</td>\n",
       "      <td>6</td>\n",
       "      <td>0.995146</td>\n",
       "      <td>0.971564</td>\n",
       "      <td>0.983213</td>\n",
       "    </tr>\n",
       "    <tr>\n",
       "      <th>40</th>\n",
       "      <td>0.40</td>\n",
       "      <td>205</td>\n",
       "      <td>52</td>\n",
       "      <td>1</td>\n",
       "      <td>6</td>\n",
       "      <td>0.995146</td>\n",
       "      <td>0.971564</td>\n",
       "      <td>0.983213</td>\n",
       "    </tr>\n",
       "    <tr>\n",
       "      <th>41</th>\n",
       "      <td>0.41</td>\n",
       "      <td>205</td>\n",
       "      <td>52</td>\n",
       "      <td>1</td>\n",
       "      <td>6</td>\n",
       "      <td>0.995146</td>\n",
       "      <td>0.971564</td>\n",
       "      <td>0.983213</td>\n",
       "    </tr>\n",
       "  </tbody>\n",
       "</table>\n",
       "</div>"
      ],
      "text/plain": [
       "       t   tp  tn  fp  fn         p         r        f1\n",
       "35  0.35  205  52   1   6  0.995146  0.971564  0.983213\n",
       "36  0.36  205  52   1   6  0.995146  0.971564  0.983213\n",
       "37  0.37  205  52   1   6  0.995146  0.971564  0.983213\n",
       "38  0.38  205  52   1   6  0.995146  0.971564  0.983213\n",
       "39  0.39  205  52   1   6  0.995146  0.971564  0.983213\n",
       "40  0.40  205  52   1   6  0.995146  0.971564  0.983213\n",
       "41  0.41  205  52   1   6  0.995146  0.971564  0.983213"
      ]
     },
     "execution_count": 13,
     "metadata": {},
     "output_type": "execute_result"
    }
   ],
   "source": [
    "\"\"\"\n",
    "Checking the treshold with the highest f1 score\n",
    "\"\"\"\n",
    "print(df_scores.f1.max())\n",
    "df_scores[df_scores.f1==0.9832134292565947]"
   ]
  },
  {
   "cell_type": "markdown",
   "id": "2f5f2e74-5296-4fc7-b595-0b3b8e6dfd16",
   "metadata": {},
   "source": [
    "Multiple tresholds have the maximum f1 score. The answer is **0.4**"
   ]
  },
  {
   "cell_type": "code",
   "execution_count": 14,
   "id": "32e6971e-d742-4a83-8688-07c84ecb21e3",
   "metadata": {},
   "outputs": [
    {
     "name": "stdout",
     "output_type": "stream",
     "text": [
      "mean: 0.996 std: 0.003\n"
     ]
    }
   ],
   "source": [
    "\"\"\"\n",
    "Evaluating model using KFold\n",
    "\"\"\"\n",
    "from sklearn.model_selection import KFold\n",
    "\n",
    "model = LogisticRegression(solver='liblinear', C=1.0, max_iter=1000)\n",
    "dv = DictVectorizer(sparse=False)\n",
    "\n",
    "kfold = KFold(n_splits=5, shuffle=True, random_state=1)\n",
    "\n",
    "scores = []\n",
    "for train_idx, val_idx in kfold.split(df_full_train):\n",
    "    df_train = df_full_train.iloc[train_idx]\n",
    "    y_train = df_train.card.values\n",
    "    train_dict = df_train[columns].to_dict(orient='records')\n",
    "    X_train = dv.fit_transform(train_dict)\n",
    "    model.fit(X_train, y_train)\n",
    "    \n",
    "    df_val = df_full_train.iloc[val_idx]\n",
    "    y_val = df_val.card.values\n",
    "    val_dict = df_val[columns].to_dict(orient='records')\n",
    "    X_val = dv.transform(val_dict)\n",
    "    y_pred = model.predict_proba(X_val)[:,1]\n",
    "    \n",
    "    score = roc_auc_score(y_val, y_pred)\n",
    "    scores.append(score)\n",
    "\n",
    "#prnting the mean auc score and standard deviation for all folds\n",
    "print(\"mean: %.3f std: %.3f\" % (np.mean(scores), np.std(scores)))"
   ]
  },
  {
   "cell_type": "markdown",
   "id": "33bba716-487e-491a-9f86-8a79d192ca88",
   "metadata": {},
   "source": [
    "The standard devidation of the AUC scores is **0.003**"
   ]
  },
  {
   "cell_type": "code",
   "execution_count": 15,
   "id": "db238b19-598b-48fb-a3a6-3a9f53f4144b",
   "metadata": {},
   "outputs": [
    {
     "name": "stdout",
     "output_type": "stream",
     "text": [
      "0.01 0.992 +- 0.006\n",
      "0.1 0.995 +- 0.004\n",
      "1 0.996 +- 0.003\n",
      "10 0.996 +- 0.003\n"
     ]
    }
   ],
   "source": [
    "\"\"\"\n",
    "Evaluating model using different tuning paramteters\n",
    "\"\"\"\n",
    "from sklearn.model_selection import KFold\n",
    "\n",
    "for C in [0.01, 0.1, 1, 10]:    \n",
    "\n",
    "    model = LogisticRegression(solver='liblinear', C=C, max_iter=1000)\n",
    "    dv = DictVectorizer(sparse=False)\n",
    "\n",
    "    kfold = KFold(n_splits=5, shuffle=True, random_state=1)\n",
    "\n",
    "    scores = []\n",
    "    for train_idx, val_idx in kfold.split(df_full_train):\n",
    "        df_train = df_full_train.iloc[train_idx]\n",
    "        y_train = df_train.card.values\n",
    "        train_dict = df_train[columns].to_dict(orient='records')\n",
    "        X_train = dv.fit_transform(train_dict)\n",
    "        model.fit(X_train, y_train)\n",
    "\n",
    "        df_val = df_full_train.iloc[val_idx]\n",
    "        y_val = df_val.card.values\n",
    "        val_dict = df_val[columns].to_dict(orient='records')\n",
    "        X_val = dv.transform(val_dict)\n",
    "        y_pred = model.predict_proba(X_val)[:,1]\n",
    "\n",
    "        score = roc_auc_score(y_val, y_pred)\n",
    "        scores.append(score)\n",
    "\n",
    "    print(\"%s %.3f +- %.3f\" % (C, np.mean(scores), np.std(scores)))"
   ]
  },
  {
   "cell_type": "markdown",
   "id": "2d713abd-f5ae-4289-be57-bc9ce1723e52",
   "metadata": {},
   "source": [
    "The C that leads to the best mean score is **1**"
   ]
  }
 ],
 "metadata": {
  "kernelspec": {
   "display_name": "Python 3 (ipykernel)",
   "language": "python",
   "name": "python3"
  },
  "language_info": {
   "codemirror_mode": {
    "name": "ipython",
    "version": 3
   },
   "file_extension": ".py",
   "mimetype": "text/x-python",
   "name": "python",
   "nbconvert_exporter": "python",
   "pygments_lexer": "ipython3",
   "version": "3.9.7"
  }
 },
 "nbformat": 4,
 "nbformat_minor": 5
}
