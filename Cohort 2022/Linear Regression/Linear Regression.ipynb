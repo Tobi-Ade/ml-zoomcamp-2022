{
 "cells": [
  {
   "cell_type": "code",
   "execution_count": 1,
   "id": "3cf1945b-6118-4900-8798-d047d77efc5d",
   "metadata": {},
   "outputs": [],
   "source": [
    "\"\"\"\n",
    "Importing necessary libraries \n",
    "\"\"\"\n",
    "import pandas as pd \n",
    "import numpy as np \n",
    "import seaborn as sns \n",
    "import matplotlib.pyplot as plt "
   ]
  },
  {
   "cell_type": "code",
   "execution_count": 2,
   "id": "6d16e2d4-22b4-4d2f-ac47-54e108c2e20a",
   "metadata": {},
   "outputs": [
    {
     "data": {
      "text/plain": [
       "'1.20.3'"
      ]
     },
     "execution_count": 2,
     "metadata": {},
     "output_type": "execute_result"
    }
   ],
   "source": [
    "\"\"\"\n",
    "Checking Numpy Version\n",
    "\"\"\"\n",
    "np.__version__"
   ]
  },
  {
   "cell_type": "code",
   "execution_count": 3,
   "id": "70e62b74-d87b-4d6f-a0f5-a6498cf05795",
   "metadata": {},
   "outputs": [],
   "source": [
    "\"\"\"\n",
    "Reading the data\n",
    "\"\"\"\n",
    "data = pd.read_csv('car price.csv')"
   ]
  },
  {
   "cell_type": "code",
   "execution_count": 4,
   "id": "3de4c97e-c84c-4b5f-ad6f-86fe4f05700d",
   "metadata": {},
   "outputs": [
    {
     "data": {
      "text/plain": [
       "(11914, 16)"
      ]
     },
     "execution_count": 4,
     "metadata": {},
     "output_type": "execute_result"
    }
   ],
   "source": [
    "\"\"\"\n",
    "Checking the shape of the data\n",
    "\"\"\"\n",
    "data.shape"
   ]
  },
  {
   "cell_type": "markdown",
   "id": "5b91e486-1710-416a-8381-c95af3aff6da",
   "metadata": {},
   "source": [
    "The data has 11914 rows and 16 columns"
   ]
  },
  {
   "cell_type": "code",
   "execution_count": 5,
   "id": "28de4733-d7d2-416b-b412-c8e4f47d9516",
   "metadata": {},
   "outputs": [
    {
     "data": {
      "text/html": [
       "<div>\n",
       "<style scoped>\n",
       "    .dataframe tbody tr th:only-of-type {\n",
       "        vertical-align: middle;\n",
       "    }\n",
       "\n",
       "    .dataframe tbody tr th {\n",
       "        vertical-align: top;\n",
       "    }\n",
       "\n",
       "    .dataframe thead th {\n",
       "        text-align: right;\n",
       "    }\n",
       "</style>\n",
       "<table border=\"1\" class=\"dataframe\">\n",
       "  <thead>\n",
       "    <tr style=\"text-align: right;\">\n",
       "      <th></th>\n",
       "      <th>Make</th>\n",
       "      <th>Model</th>\n",
       "      <th>Year</th>\n",
       "      <th>Engine Fuel Type</th>\n",
       "      <th>Engine HP</th>\n",
       "      <th>Engine Cylinders</th>\n",
       "      <th>Transmission Type</th>\n",
       "      <th>Driven_Wheels</th>\n",
       "      <th>Number of Doors</th>\n",
       "      <th>Market Category</th>\n",
       "      <th>Vehicle Size</th>\n",
       "      <th>Vehicle Style</th>\n",
       "      <th>highway MPG</th>\n",
       "      <th>city mpg</th>\n",
       "      <th>Popularity</th>\n",
       "      <th>MSRP</th>\n",
       "    </tr>\n",
       "  </thead>\n",
       "  <tbody>\n",
       "    <tr>\n",
       "      <th>0</th>\n",
       "      <td>BMW</td>\n",
       "      <td>1 Series M</td>\n",
       "      <td>2011</td>\n",
       "      <td>premium unleaded (required)</td>\n",
       "      <td>335.0</td>\n",
       "      <td>6.0</td>\n",
       "      <td>MANUAL</td>\n",
       "      <td>rear wheel drive</td>\n",
       "      <td>2.0</td>\n",
       "      <td>Factory Tuner,Luxury,High-Performance</td>\n",
       "      <td>Compact</td>\n",
       "      <td>Coupe</td>\n",
       "      <td>26</td>\n",
       "      <td>19</td>\n",
       "      <td>3916</td>\n",
       "      <td>46135</td>\n",
       "    </tr>\n",
       "    <tr>\n",
       "      <th>1</th>\n",
       "      <td>BMW</td>\n",
       "      <td>1 Series</td>\n",
       "      <td>2011</td>\n",
       "      <td>premium unleaded (required)</td>\n",
       "      <td>300.0</td>\n",
       "      <td>6.0</td>\n",
       "      <td>MANUAL</td>\n",
       "      <td>rear wheel drive</td>\n",
       "      <td>2.0</td>\n",
       "      <td>Luxury,Performance</td>\n",
       "      <td>Compact</td>\n",
       "      <td>Convertible</td>\n",
       "      <td>28</td>\n",
       "      <td>19</td>\n",
       "      <td>3916</td>\n",
       "      <td>40650</td>\n",
       "    </tr>\n",
       "    <tr>\n",
       "      <th>2</th>\n",
       "      <td>BMW</td>\n",
       "      <td>1 Series</td>\n",
       "      <td>2011</td>\n",
       "      <td>premium unleaded (required)</td>\n",
       "      <td>300.0</td>\n",
       "      <td>6.0</td>\n",
       "      <td>MANUAL</td>\n",
       "      <td>rear wheel drive</td>\n",
       "      <td>2.0</td>\n",
       "      <td>Luxury,High-Performance</td>\n",
       "      <td>Compact</td>\n",
       "      <td>Coupe</td>\n",
       "      <td>28</td>\n",
       "      <td>20</td>\n",
       "      <td>3916</td>\n",
       "      <td>36350</td>\n",
       "    </tr>\n",
       "    <tr>\n",
       "      <th>3</th>\n",
       "      <td>BMW</td>\n",
       "      <td>1 Series</td>\n",
       "      <td>2011</td>\n",
       "      <td>premium unleaded (required)</td>\n",
       "      <td>230.0</td>\n",
       "      <td>6.0</td>\n",
       "      <td>MANUAL</td>\n",
       "      <td>rear wheel drive</td>\n",
       "      <td>2.0</td>\n",
       "      <td>Luxury,Performance</td>\n",
       "      <td>Compact</td>\n",
       "      <td>Coupe</td>\n",
       "      <td>28</td>\n",
       "      <td>18</td>\n",
       "      <td>3916</td>\n",
       "      <td>29450</td>\n",
       "    </tr>\n",
       "    <tr>\n",
       "      <th>4</th>\n",
       "      <td>BMW</td>\n",
       "      <td>1 Series</td>\n",
       "      <td>2011</td>\n",
       "      <td>premium unleaded (required)</td>\n",
       "      <td>230.0</td>\n",
       "      <td>6.0</td>\n",
       "      <td>MANUAL</td>\n",
       "      <td>rear wheel drive</td>\n",
       "      <td>2.0</td>\n",
       "      <td>Luxury</td>\n",
       "      <td>Compact</td>\n",
       "      <td>Convertible</td>\n",
       "      <td>28</td>\n",
       "      <td>18</td>\n",
       "      <td>3916</td>\n",
       "      <td>34500</td>\n",
       "    </tr>\n",
       "  </tbody>\n",
       "</table>\n",
       "</div>"
      ],
      "text/plain": [
       "  Make       Model  Year             Engine Fuel Type  Engine HP  \\\n",
       "0  BMW  1 Series M  2011  premium unleaded (required)      335.0   \n",
       "1  BMW    1 Series  2011  premium unleaded (required)      300.0   \n",
       "2  BMW    1 Series  2011  premium unleaded (required)      300.0   \n",
       "3  BMW    1 Series  2011  premium unleaded (required)      230.0   \n",
       "4  BMW    1 Series  2011  premium unleaded (required)      230.0   \n",
       "\n",
       "   Engine Cylinders Transmission Type     Driven_Wheels  Number of Doors  \\\n",
       "0               6.0            MANUAL  rear wheel drive              2.0   \n",
       "1               6.0            MANUAL  rear wheel drive              2.0   \n",
       "2               6.0            MANUAL  rear wheel drive              2.0   \n",
       "3               6.0            MANUAL  rear wheel drive              2.0   \n",
       "4               6.0            MANUAL  rear wheel drive              2.0   \n",
       "\n",
       "                         Market Category Vehicle Size Vehicle Style  \\\n",
       "0  Factory Tuner,Luxury,High-Performance      Compact         Coupe   \n",
       "1                     Luxury,Performance      Compact   Convertible   \n",
       "2                Luxury,High-Performance      Compact         Coupe   \n",
       "3                     Luxury,Performance      Compact         Coupe   \n",
       "4                                 Luxury      Compact   Convertible   \n",
       "\n",
       "   highway MPG  city mpg  Popularity   MSRP  \n",
       "0           26        19        3916  46135  \n",
       "1           28        19        3916  40650  \n",
       "2           28        20        3916  36350  \n",
       "3           28        18        3916  29450  \n",
       "4           28        18        3916  34500  "
      ]
     },
     "execution_count": 5,
     "metadata": {},
     "output_type": "execute_result"
    }
   ],
   "source": [
    "\"\"\"\n",
    "Checking first 5 rows of the data\n",
    "\"\"\"\n",
    "data.head()"
   ]
  },
  {
   "cell_type": "code",
   "execution_count": 6,
   "id": "52dc91a3-ad86-4c60-9282-4ff9237b86a1",
   "metadata": {},
   "outputs": [
    {
     "data": {
      "text/plain": [
       "Index(['make', 'model', 'year', 'engine_fuel_type', 'engine_hp',\n",
       "       'engine_cylinders', 'transmission_type', 'driven_wheels',\n",
       "       'number_of_doors', 'market_category', 'vehicle_size', 'vehicle_style',\n",
       "       'highway_mpg', 'city_mpg', 'popularity', 'msrp'],\n",
       "      dtype='object')"
      ]
     },
     "execution_count": 6,
     "metadata": {},
     "output_type": "execute_result"
    }
   ],
   "source": [
    "\"Normalizing column names\"\n",
    "data.columns = data.columns.str.lower().str.replace(' ', '_')\n",
    "data.columns"
   ]
  },
  {
   "cell_type": "code",
   "execution_count": 7,
   "id": "da41c322-6a4f-42c3-b898-975326bbb51a",
   "metadata": {},
   "outputs": [
    {
     "data": {
      "text/plain": [
       "make        popularity\n",
       "Chevrolet   1385          1123\n",
       "Ford        5657           881\n",
       "Volkswagen  873            809\n",
       "dtype: int64"
      ]
     },
     "execution_count": 7,
     "metadata": {},
     "output_type": "execute_result"
    }
   ],
   "source": [
    "\"\"\"\n",
    "Checking the most used car manufacturers in the dataset and their popularity\n",
    "\"\"\"\n",
    "data[['make', 'popularity']].value_counts().head(3)"
   ]
  },
  {
   "cell_type": "markdown",
   "id": "e1596a1b-9b7c-494a-a8e7-cbd55a2a2ff0",
   "metadata": {},
   "source": [
    "The 3 most popular car maufacturers are Chevrolet, Ford and Volkswagen"
   ]
  },
  {
   "cell_type": "code",
   "execution_count": 8,
   "id": "6fde0413-55a5-4671-8fc6-5895922b0701",
   "metadata": {},
   "outputs": [
    {
     "data": {
      "text/plain": [
       "34"
      ]
     },
     "execution_count": 8,
     "metadata": {},
     "output_type": "execute_result"
    }
   ],
   "source": [
    "\"\"\"\n",
    "Checking the number of unique Audi models in the data set \n",
    "\"\"\"\n",
    "data[data.make=='Audi']['model'].nunique()"
   ]
  },
  {
   "cell_type": "markdown",
   "id": "c7c1d176-2729-4599-8b09-846921ae5337",
   "metadata": {},
   "source": [
    "The number of unique Audi models in the data set is 34"
   ]
  },
  {
   "cell_type": "code",
   "execution_count": 9,
   "id": "eacede39-9b58-4c65-8861-9e83b861373c",
   "metadata": {},
   "outputs": [],
   "source": [
    "\"\"\"\n",
    "This function takes a dataframe and returns the columns that have missing values as well as the number of missing values\n",
    ":params: pandas dataframe\n",
    ":return: columns with missing values and the number of missing values \n",
    ":rtype: List\n",
    "\"\"\"\n",
    "def sum_missing_values(data):\n",
    "    missing_columns = [[column, data[column].isna().sum()] for column in data if data[column].isna().sum()]\n",
    "    num_of_missing_columns = len(missing_columns)\n",
    "    return missing_columns, num_of_missing_columns"
   ]
  },
  {
   "cell_type": "code",
   "execution_count": 10,
   "id": "7f47f3c8-961f-4089-aff7-28fb45539a50",
   "metadata": {},
   "outputs": [
    {
     "data": {
      "text/plain": [
       "5"
      ]
     },
     "execution_count": 10,
     "metadata": {},
     "output_type": "execute_result"
    }
   ],
   "source": [
    "missing_columns, total_missing_columns =  sum_missing_values(data)\n",
    "total_missing_columns"
   ]
  },
  {
   "cell_type": "markdown",
   "id": "e806e44b-a121-441a-b9c3-8c111dda51d3",
   "metadata": {},
   "source": [
    "The number of columns with missing values = 5"
   ]
  },
  {
   "cell_type": "code",
   "execution_count": 11,
   "id": "45934918-d497-4f37-b51d-a7043e5c1f98",
   "metadata": {},
   "outputs": [
    {
     "name": "stdout",
     "output_type": "stream",
     "text": [
      "6.0\n"
     ]
    },
    {
     "data": {
      "text/plain": [
       "6.0"
      ]
     },
     "execution_count": 11,
     "metadata": {},
     "output_type": "execute_result"
    }
   ],
   "source": [
    "\"\"\"\n",
    "Median value of Engine Cylinders Column\n",
    "\"\"\"\n",
    "\n",
    "median_engine_cylinders = data['engine_cylinders'].median()\n",
    "most_freq_engine_cylinders = data['engine_cylinders'].mode()\n",
    "print(median_engine_cylinders)\n",
    "filled_engine_cylinders = data['engine_cylinders'].fillna(0)\n",
    "filled_engine_cylinders.median()"
   ]
  },
  {
   "cell_type": "markdown",
   "id": "edd31829-bf94-46ed-a5f4-7d17d28b346c",
   "metadata": {},
   "source": [
    "The median of the Engine Cylinders column does not change after filling missing values with zero"
   ]
  },
  {
   "cell_type": "code",
   "execution_count": 12,
   "id": "9f957857-f85a-4b88-bb75-dcc4af61f6bb",
   "metadata": {},
   "outputs": [
    {
     "data": {
      "text/plain": [
       "4.594944810094579"
      ]
     },
     "execution_count": 12,
     "metadata": {},
     "output_type": "execute_result"
    }
   ],
   "source": [
    "\"\"\"\n",
    "Performing Linear Regression on a subset of the data\n",
    "\"\"\"\n",
    "\n",
    "#Creating a subset of the data\n",
    "Lotus_cars = data[data.make=='Lotus']\n",
    "Lotus_clean = Lotus_cars[['engine_hp', 'engine_cylinders']].drop_duplicates()\n",
    "\n",
    "#Extracting an array as our feature matrix\n",
    "X = Lotus_clean.values\n",
    "\n",
    "#Calculating the gram matrix\n",
    "XTX = X.T.dot(X)\n",
    "#inverting the gram matrix\n",
    "XTX_inv = np.linalg.inv(XTX)\n",
    "#the given targets for each observation\n",
    "y = [1100, 800, 750, 850, 1300, 1000, 1000, 1300, 800]\n",
    "#calculating the weights for each feature\n",
    "w = XTX_inv.dot(X.T).dot(y)\n",
    "#Displaying the weight of the first feature\n",
    "w[0]"
   ]
  },
  {
   "cell_type": "code",
   "execution_count": null,
   "id": "44c5943a-847b-4930-9ed9-8aeeb182c4dc",
   "metadata": {},
   "outputs": [],
   "source": []
  },
  {
   "cell_type": "code",
   "execution_count": null,
   "id": "d8af8ae0-b8fc-4625-9d92-d55d9052bfa8",
   "metadata": {},
   "outputs": [],
   "source": []
  },
  {
   "cell_type": "code",
   "execution_count": null,
   "id": "0158807e-7401-47ae-8a98-6f3f07687d3c",
   "metadata": {},
   "outputs": [],
   "source": []
  },
  {
   "cell_type": "code",
   "execution_count": null,
   "id": "2a7d083e-cadf-4fde-9b30-d9b0f7b205e9",
   "metadata": {},
   "outputs": [],
   "source": []
  }
 ],
 "metadata": {
  "kernelspec": {
   "display_name": "Python 3 (ipykernel)",
   "language": "python",
   "name": "python3"
  },
  "language_info": {
   "codemirror_mode": {
    "name": "ipython",
    "version": 3
   },
   "file_extension": ".py",
   "mimetype": "text/x-python",
   "name": "python",
   "nbconvert_exporter": "python",
   "pygments_lexer": "ipython3",
   "version": "3.9.7"
  }
 },
 "nbformat": 4,
 "nbformat_minor": 5
}
