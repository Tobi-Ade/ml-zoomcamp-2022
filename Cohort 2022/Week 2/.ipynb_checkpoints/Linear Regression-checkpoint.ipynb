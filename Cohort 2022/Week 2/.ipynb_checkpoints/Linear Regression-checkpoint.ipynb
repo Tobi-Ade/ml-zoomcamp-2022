{
 "cells": [
  {
   "cell_type": "code",
   "execution_count": 1,
   "id": "9e55086e-0ac9-4445-9cfc-dee795f6936b",
   "metadata": {},
   "outputs": [],
   "source": [
    "\"\"\"\n",
    "Importing necessary libraries \n",
    "\"\"\"\n",
    "import pandas as pd \n",
    "import numpy as np \n",
    "import seaborn as sns \n",
    "import matplotlib.pyplot as plt\n",
    "from sklearn.model_selection import train_test_split\n",
    "from sklearn.linear_model import LinearRegression"
   ]
  },
  {
   "cell_type": "code",
   "execution_count": 2,
   "id": "45b5114f-a793-4b55-b364-4622ea767b4c",
   "metadata": {},
   "outputs": [],
   "source": [
    "\"\"\"\n",
    "Reading the data\n",
    "\"\"\"\n",
    "df = pd.read_csv('housing.csv')"
   ]
  },
  {
   "cell_type": "code",
   "execution_count": 3,
   "id": "0ae204a9-647d-4ba8-a783-2d8b0e05f855",
   "metadata": {},
   "outputs": [
    {
     "data": {
      "text/html": [
       "<div>\n",
       "<style scoped>\n",
       "    .dataframe tbody tr th:only-of-type {\n",
       "        vertical-align: middle;\n",
       "    }\n",
       "\n",
       "    .dataframe tbody tr th {\n",
       "        vertical-align: top;\n",
       "    }\n",
       "\n",
       "    .dataframe thead th {\n",
       "        text-align: right;\n",
       "    }\n",
       "</style>\n",
       "<table border=\"1\" class=\"dataframe\">\n",
       "  <thead>\n",
       "    <tr style=\"text-align: right;\">\n",
       "      <th></th>\n",
       "      <th>longitude</th>\n",
       "      <th>latitude</th>\n",
       "      <th>housing_median_age</th>\n",
       "      <th>total_rooms</th>\n",
       "      <th>total_bedrooms</th>\n",
       "      <th>population</th>\n",
       "      <th>households</th>\n",
       "      <th>median_income</th>\n",
       "      <th>median_house_value</th>\n",
       "      <th>ocean_proximity</th>\n",
       "    </tr>\n",
       "  </thead>\n",
       "  <tbody>\n",
       "    <tr>\n",
       "      <th>0</th>\n",
       "      <td>-122.23</td>\n",
       "      <td>37.88</td>\n",
       "      <td>41.0</td>\n",
       "      <td>880.0</td>\n",
       "      <td>129.0</td>\n",
       "      <td>322.0</td>\n",
       "      <td>126.0</td>\n",
       "      <td>8.3252</td>\n",
       "      <td>452600.0</td>\n",
       "      <td>NEAR BAY</td>\n",
       "    </tr>\n",
       "    <tr>\n",
       "      <th>1</th>\n",
       "      <td>-122.22</td>\n",
       "      <td>37.86</td>\n",
       "      <td>21.0</td>\n",
       "      <td>7099.0</td>\n",
       "      <td>1106.0</td>\n",
       "      <td>2401.0</td>\n",
       "      <td>1138.0</td>\n",
       "      <td>8.3014</td>\n",
       "      <td>358500.0</td>\n",
       "      <td>NEAR BAY</td>\n",
       "    </tr>\n",
       "    <tr>\n",
       "      <th>2</th>\n",
       "      <td>-122.24</td>\n",
       "      <td>37.85</td>\n",
       "      <td>52.0</td>\n",
       "      <td>1467.0</td>\n",
       "      <td>190.0</td>\n",
       "      <td>496.0</td>\n",
       "      <td>177.0</td>\n",
       "      <td>7.2574</td>\n",
       "      <td>352100.0</td>\n",
       "      <td>NEAR BAY</td>\n",
       "    </tr>\n",
       "    <tr>\n",
       "      <th>3</th>\n",
       "      <td>-122.25</td>\n",
       "      <td>37.85</td>\n",
       "      <td>52.0</td>\n",
       "      <td>1274.0</td>\n",
       "      <td>235.0</td>\n",
       "      <td>558.0</td>\n",
       "      <td>219.0</td>\n",
       "      <td>5.6431</td>\n",
       "      <td>341300.0</td>\n",
       "      <td>NEAR BAY</td>\n",
       "    </tr>\n",
       "    <tr>\n",
       "      <th>4</th>\n",
       "      <td>-122.25</td>\n",
       "      <td>37.85</td>\n",
       "      <td>52.0</td>\n",
       "      <td>1627.0</td>\n",
       "      <td>280.0</td>\n",
       "      <td>565.0</td>\n",
       "      <td>259.0</td>\n",
       "      <td>3.8462</td>\n",
       "      <td>342200.0</td>\n",
       "      <td>NEAR BAY</td>\n",
       "    </tr>\n",
       "  </tbody>\n",
       "</table>\n",
       "</div>"
      ],
      "text/plain": [
       "   longitude  latitude  housing_median_age  total_rooms  total_bedrooms  \\\n",
       "0    -122.23     37.88                41.0        880.0           129.0   \n",
       "1    -122.22     37.86                21.0       7099.0          1106.0   \n",
       "2    -122.24     37.85                52.0       1467.0           190.0   \n",
       "3    -122.25     37.85                52.0       1274.0           235.0   \n",
       "4    -122.25     37.85                52.0       1627.0           280.0   \n",
       "\n",
       "   population  households  median_income  median_house_value ocean_proximity  \n",
       "0       322.0       126.0         8.3252            452600.0        NEAR BAY  \n",
       "1      2401.0      1138.0         8.3014            358500.0        NEAR BAY  \n",
       "2       496.0       177.0         7.2574            352100.0        NEAR BAY  \n",
       "3       558.0       219.0         5.6431            341300.0        NEAR BAY  \n",
       "4       565.0       259.0         3.8462            342200.0        NEAR BAY  "
      ]
     },
     "execution_count": 3,
     "metadata": {},
     "output_type": "execute_result"
    }
   ],
   "source": [
    "df.head()"
   ]
  },
  {
   "cell_type": "code",
   "execution_count": 4,
   "id": "5af71a92-dcb9-413e-b3c1-94b2a32752e2",
   "metadata": {},
   "outputs": [
    {
     "data": {
      "text/plain": [
       "<AxesSubplot:xlabel='median_house_value', ylabel='Count'>"
      ]
     },
     "execution_count": 4,
     "metadata": {},
     "output_type": "execute_result"
    },
    {
     "data": {
      "image/png": "[encoded data removed]",
      "text/plain": [
       "<Figure size 432x288 with 1 Axes>"
      ]
     },
     "metadata": {
      "needs_background": "light"
     },
     "output_type": "display_data"
    }
   ],
   "source": [
    "\"\"\"\n",
    "Visualizing the median_house_value column of the dataframe\n",
    "\"\"\"\n",
    "sns.histplot(df['median_house_value'], bins=50)"
   ]
  },
  {
   "cell_type": "markdown",
   "id": "06dd0e41-0e73-4de9-b85c-2c292f993499",
   "metadata": {},
   "source": [
    "The distribution does not have long tail"
   ]
  },
  {
   "cell_type": "code",
   "execution_count": 5,
   "id": "0b2fdbd6-c453-422d-8a6b-fc94d312904e",
   "metadata": {},
   "outputs": [],
   "source": [
    "\"\"\"\n",
    "Creating a new dataframe with specific features from original dataframe\n",
    "\"\"\"\n",
    "features = ['latitude', 'longitude', 'housing_median_age', 'total_rooms',\n",
    "           'total_bedrooms', 'population', 'households', 'median_income',\n",
    "           'median_house_value']\n",
    "\n",
    "data = df[features]"
   ]
  },
  {
   "cell_type": "code",
   "execution_count": 6,
   "id": "ec2154eb-90fe-4ef0-9689-e8c62c8f82ea",
   "metadata": {},
   "outputs": [
    {
     "data": {
      "text/plain": [
       "latitude                0\n",
       "longitude               0\n",
       "housing_median_age      0\n",
       "total_rooms             0\n",
       "total_bedrooms        207\n",
       "population              0\n",
       "households              0\n",
       "median_income           0\n",
       "median_house_value      0\n",
       "dtype: int64"
      ]
     },
     "execution_count": 6,
     "metadata": {},
     "output_type": "execute_result"
    }
   ],
   "source": [
    "\"\"\"\n",
    "Checking the missing values in the data \n",
    "\"\"\"\n",
    "data.isnull().sum()"
   ]
  },
  {
   "cell_type": "markdown",
   "id": "c116864f-4974-414f-876f-f4e4b22497db",
   "metadata": {},
   "source": [
    "The feature with missing values is total_bedrooms, with 207 missing values"
   ]
  },
  {
   "cell_type": "code",
   "execution_count": 7,
   "id": "74e00a0f-6e0f-49c9-888f-b60ebf9ba540",
   "metadata": {},
   "outputs": [
    {
     "name": "stdout",
     "output_type": "stream",
     "text": [
      "The median for variable population is 1166.0\n"
     ]
    }
   ],
   "source": [
    "\"\"\"\n",
    "Computing the median for 'population'\n",
    "\"\"\"\n",
    "median_population = data.population.median()\n",
    "\n",
    "print(\"The median for variable population is %s\" % (median_population))"
   ]
  },
  {
   "cell_type": "code",
   "execution_count": 8,
   "id": "9d4fc5cc-200d-4fb8-83d7-e53af5144756",
   "metadata": {},
   "outputs": [],
   "source": [
    "\"\"\"\n",
    "Splitting the data into:\n",
    "Training data, Validation data and Testing data\n",
    "\"\"\"\n",
    "\n",
    "#setting random seed \n",
    "np.random.seed(42)\n",
    "\n",
    "#setting the percentage splits\n",
    "n = len(data)\n",
    "\n",
    "#60 percent for training\n",
    "n_train = int(n * 0.6)\n",
    "\n",
    "#20 percent for validation\n",
    "n_val = int(n * 0.2)\n",
    "\n",
    "#20 percent for validation\n",
    "n_test = int(n * 0.2)\n",
    "\n",
    "#shuffling the dataset\n",
    "idx = np.arange(n)\n",
    "np.random.shuffle(idx)\n",
    "house_data = data.iloc[idx].reset_index(drop=True)\n",
    "\n",
    "# #Training data\n",
    "train_df = house_data[:n_train]\n",
    "\n",
    "#Validation data\n",
    "val_df = house_data[n_train:n_train+n_val]\n",
    "\n",
    "#Testing data\n",
    "test_df = house_data[n_train+n_val:]"
   ]
  },
  {
   "cell_type": "code",
   "execution_count": 9,
   "id": "e088c57f-3ebb-49bf-8d1a-20382f492382",
   "metadata": {},
   "outputs": [],
   "source": [
    "\"\"\"\n",
    "Setting the target variable for the data splits\n",
    "\"\"\"\n",
    "#performing log transform on the targets\n",
    "y_train = np.log1p(train_df.median_house_value.values)\n",
    "y_val = np.log1p(val_df.median_house_value.values)\n",
    "y_test = np.log1p(test_df.median_house_value.values)\n",
    "\n",
    "#deleting the target feature from the data sets \n",
    "del train_df[\"median_house_value\"]\n",
    "del val_df['median_house_value']\n",
    "del test_df['median_house_value']"
   ]
  },
  {
   "cell_type": "code",
   "execution_count": 10,
   "id": "653fd383-612a-4721-9cd9-c2daaa5b72c8",
   "metadata": {},
   "outputs": [],
   "source": [
    "def fill_zero(df):\n",
    "    \"\"\"\n",
    "    This function takes a dataframe and fills the missing values with zero \n",
    "    params: pandas dataframe \n",
    "    returns: array of the dataframe with no missing values\n",
    "    rtype: array\n",
    "    \"\"\"\n",
    "    new_df = df.copy()\n",
    "    new_df = new_df.fillna(0)    \n",
    "    return new_df.values    \n"
   ]
  },
  {
   "cell_type": "code",
   "execution_count": 11,
   "id": "db99afab-d161-469b-bbb8-589fc2e42e4e",
   "metadata": {},
   "outputs": [],
   "source": [
    "def fill_mean(df, column):\n",
    "    \"\"\"\n",
    "    This function takes a dataframe and fills the missing values with the mean\n",
    "    params: pandas dataframe, column name\n",
    "    returns: array with filled missing values\n",
    "    rtype: numpy array\n",
    "    \"\"\"\n",
    "    new_df = df.copy()\n",
    "    new_df = new_df.fillna(df[column].mean())    \n",
    "    return new_df.values    \n"
   ]
  },
  {
   "cell_type": "code",
   "execution_count": 12,
   "id": "b4c6ed50-1ea9-492f-a680-322426e1c8e1",
   "metadata": {},
   "outputs": [],
   "source": [
    "def train_linear_regression(X,y):\n",
    "    \"\"\"\n",
    "    This function takes in the feature matrix and the target vector,\n",
    "    and produces the weights to be used for linear regression\n",
    "    params: features, target\n",
    "    return: weights for bias and each feature\n",
    "    rtype: numpy array\n",
    "    \"\"\"\n",
    "    ones = np.ones(X.shape[0])\n",
    "    X = np.column_stack([ones, X])\n",
    "    XTX = X.T.dot(X)\n",
    "    XTX_inv = np.linalg.inv(XTX)\n",
    "    w = XTX_inv.dot(X.T).dot(y)\n",
    "    return w[0], w[1:]    "
   ]
  },
  {
   "cell_type": "code",
   "execution_count": 13,
   "id": "0e61712b-9b39-49c8-ad2c-3d21cdb42d63",
   "metadata": {},
   "outputs": [],
   "source": [
    "def predict(X, w_0, w):\n",
    "    \"\"\"\n",
    "    This function takes in a feature matrix and its weights,\n",
    "    and computes predicted target values\n",
    "    params: feature matrix, weights\n",
    "    return: predictions for feature matrix\n",
    "    rtype: array\n",
    "    \"\"\"\n",
    "    bias = w_0\n",
    "    pred = bias + X.dot(w)\n",
    "    return pred"
   ]
  },
  {
   "cell_type": "code",
   "execution_count": 14,
   "id": "5a0ec99b-0d8d-4175-a455-25c382b4d103",
   "metadata": {},
   "outputs": [],
   "source": [
    "def rmse(y, y_pred):\n",
    "    \"\"\"\n",
    "    This function takes in the original target values and the predicted values,\n",
    "    and computes the root mean squared error\n",
    "    params: original target, predicted target\n",
    "    return: rmse \n",
    "    rtype:float\n",
    "    \"\"\"\n",
    "    error = y - y_pred \n",
    "    mse = (error ** 2).mean()\n",
    "    score = round(np.sqrt(mse),2)\n",
    "    return score"
   ]
  },
  {
   "cell_type": "code",
   "execution_count": 15,
   "id": "1d65317c-fd48-4cf5-ae28-15ca31e4f7ed",
   "metadata": {},
   "outputs": [
    {
     "name": "stdout",
     "output_type": "stream",
     "text": [
      "The rmse after filling missing data with 0 is 0.33\n"
     ]
    }
   ],
   "source": [
    "\"\"\"\n",
    "Evaluating the model on validation data after filling missing data with 0\n",
    "\"\"\"\n",
    "X_train = fill_zero(train_df)\n",
    "w_0, w= train_linear_regression(X_train, y_train)\n",
    "X_val = fill_zero(val_df)\n",
    "y_pred = predict(X_val, w_0, w)\n",
    "print(\"The rmse after filling missing data with 0 is %s\" % (rmse(y_val, y_pred)))"
   ]
  },
  {
   "cell_type": "code",
   "execution_count": 16,
   "id": "593a4cbb-148f-4380-9a15-d2b29e950d81",
   "metadata": {},
   "outputs": [
    {
     "name": "stdout",
     "output_type": "stream",
     "text": [
      "The rmse after filling missing data with the mean is 0.33\n"
     ]
    }
   ],
   "source": [
    "\"\"\"\n",
    "Evaluating the model on validation data after filling missing data with the mean\n",
    "\"\"\"\n",
    "X_train = fill_mean(train_df, 'total_bedrooms')\n",
    "w_0, w= train_linear_regression(X_train, y_train)\n",
    "X_val = fill_mean(val_df, 'total_bedrooms')\n",
    "y_pred = predict(X_val, w_0, w)\n",
    "print(\"The rmse after filling missing data with the mean is %s\" % (rmse(y_val, y_pred)))"
   ]
  },
  {
   "cell_type": "code",
   "execution_count": 17,
   "id": "9e7ffc39-ff77-4e63-bf5b-63dce461f188",
   "metadata": {},
   "outputs": [],
   "source": [
    "def train_linear_regression_reg(X, y, r):\n",
    "    \"\"\"\n",
    "    This function takes in the feature matrix, the target vector, and a regularization value\n",
    "    and produces the weights to be used for linear regression\n",
    "    params: features, target, regularization value\n",
    "    return: weights for bias and each feature\n",
    "    rtype: array\n",
    "    \"\"\"\n",
    "    ones = np.ones(X.shape[0])\n",
    "    X = np.column_stack([ones, X])\n",
    "    XTX = X.T.dot(X)\n",
    "    \n",
    "    XTX = XTX + (r * np.eye(XTX.shape[0]))\n",
    "    \n",
    "    XTX_inv = np.linalg.inv(XTX)\n",
    "    w = XTX_inv.dot(X.T).dot(y)\n",
    "    return w[0], w[1:]   "
   ]
  },
  {
   "cell_type": "code",
   "execution_count": 18,
   "id": "876f0eb0-4273-4d79-8626-23d8742ff70c",
   "metadata": {},
   "outputs": [
    {
     "name": "stdout",
     "output_type": "stream",
     "text": [
      "0 0.33\n",
      "1e-06 0.33\n",
      "0.0001 0.33\n",
      "0.001 0.33\n",
      "0.01 0.33\n",
      "0.1 0.33\n",
      "1 0.33\n",
      "5 0.34\n",
      "10 0.34\n"
     ]
    }
   ],
   "source": [
    "\"\"\"\n",
    "Determining the best r value by testing different values\n",
    "\"\"\"\n",
    "test_values = [0, 0.000001, 0.0001, 0.001, 0.01, 0.1, 1, 5, 10]\n",
    "for r in test_values:\n",
    "    X_train = fill_zero(train_df)\n",
    "    w_0, w = train_linear_regression_reg(X_train, y_train, r)\n",
    "    X_val = fill_zero(val_df)\n",
    "    y_pred = predict(X_val, w_0, w)\n",
    "    score =  rmse(y_val, y_pred)\n",
    "    print('%s %s' % (r, score))"
   ]
  },
  {
   "cell_type": "markdown",
   "id": "ba4b774d-d581-4d15-8772-c551965caa20",
   "metadata": {},
   "source": [
    "The r value that gives the best score is 0"
   ]
  },
  {
   "cell_type": "code",
   "execution_count": 19,
   "id": "6454851d-da04-4543-9079-aa4023ae7175",
   "metadata": {},
   "outputs": [
    {
     "name": "stdout",
     "output_type": "stream",
     "text": [
      "{0: 0.34, 1: 0.34, 2: 0.33, 3: 0.34, 4: 0.34, 5: 0.34, 6: 0.35, 7: 0.34, 8: 0.35, 9: 0.34}\n"
     ]
    }
   ],
   "source": [
    "\"\"\"\n",
    "Evaluating the rmse for different seed values\n",
    "\"\"\"\n",
    "scores_dict = {}\n",
    "for seed in [0, 1, 2, 3, 4, 5, 6, 7, 8, 9]:\n",
    "    #setting random seed \n",
    "    np.random.seed(seed)\n",
    "\n",
    "    #setting the percentage splits\n",
    "    n = len(data)\n",
    "\n",
    "    #60 percent for training\n",
    "    n_train = int(n * 0.6)\n",
    "\n",
    "    #20 percent for validation\n",
    "    n_val = int(n * 0.2)\n",
    "\n",
    "    #20 percent for validation\n",
    "    n_test = int(n * 0.2)\n",
    "\n",
    "    #shuffling the dataset\n",
    "    idx = np.arange(n)\n",
    "    np.random.shuffle(idx)\n",
    "\n",
    "    house_data = data.iloc[idx].reset_index(drop=True)\n",
    "\n",
    "    # #Training data\n",
    "    train_df = house_data[:n_train]\n",
    "\n",
    "    #Validation data\n",
    "    val_df = house_data[n_train:n_train+n_val]\n",
    "\n",
    "    #Testing data\n",
    "    test_df = house_data[n_train+n_val:]\n",
    "    \n",
    "    #performing log transform on the targets\n",
    "    y_train = np.log1p(train_df.median_house_value.values)\n",
    "    y_val = np.log1p(val_df.median_house_value.values)\n",
    "    y_test = np.log1p(test_df.median_house_value.values)\n",
    "\n",
    "    #deleting the target column from the data sets \n",
    "    del train_df[\"median_house_value\"]\n",
    "    del val_df['median_house_value']\n",
    "    del test_df['median_house_value']\n",
    "    \n",
    "    #Training and evaluation\n",
    "    X_train = fill_zero(train_df)\n",
    "    w_0, w= train_linear_regression(X_train, y_train)\n",
    "    X_val = fill_zero(val_df)\n",
    "    y_pred = predict(X_val, w_0, w)\n",
    "    score = rmse(y_val, y_pred)\n",
    "    \n",
    "    scores_dict[seed] = score\n",
    "    \n",
    "print(scores_dict)"
   ]
  },
  {
   "cell_type": "code",
   "execution_count": 20,
   "id": "2224b53e-2c5b-4fa2-bb44-5f7366e8949a",
   "metadata": {},
   "outputs": [
    {
     "data": {
      "text/plain": [
       "0.005"
      ]
     },
     "execution_count": 20,
     "metadata": {},
     "output_type": "execute_result"
    }
   ],
   "source": [
    "\"\"\"\n",
    "Finding the standard deviation of all the scores\n",
    "\"\"\"\n",
    "scores_list = []\n",
    "for score in scores_dict.values():\n",
    "    scores_list.append(score)\n",
    "std = np.round(np.std(scores_list),3)\n",
    "std"
   ]
  },
  {
   "cell_type": "markdown",
   "id": "4034f3e4-bbf7-4c16-9667-266aed137b7f",
   "metadata": {},
   "source": [
    "The standard deviation of the scores is 0.005"
   ]
  },
  {
   "cell_type": "code",
   "execution_count": 21,
   "id": "e4244b0c-9dae-4a63-afd2-2d218b4ee591",
   "metadata": {},
   "outputs": [
    {
     "data": {
      "text/plain": [
       "0.35"
      ]
     },
     "execution_count": 21,
     "metadata": {},
     "output_type": "execute_result"
    }
   ],
   "source": [
    "\"\"\"\n",
    "Evaluating the rmse for seed 9\n",
    "\"\"\"\n",
    "np.random.seed(9)\n",
    "\n",
    "#setting the percentage splits\n",
    "n = len(data)\n",
    "\n",
    "#60 percent for training\n",
    "n_train = int(n * 0.6)\n",
    "\n",
    "#20 percent for validation\n",
    "n_val = int(n * 0.2)\n",
    "\n",
    "#20 percent for validation\n",
    "n_test = int(n * 0.2)\n",
    "\n",
    "#shuffling the dataset\n",
    "idx = np.arange(n)\n",
    "np.random.shuffle(idx)\n",
    "\n",
    "house_data = data.iloc[idx].reset_index(drop=True)\n",
    "\n",
    "# #Training data\n",
    "train_df = house_data[:n_train]\n",
    "\n",
    "#Validation data\n",
    "val_df = house_data[n_train:n_train+n_val]\n",
    "\n",
    "#Testing data\n",
    "test_df = house_data[n_train+n_val:]\n",
    "\n",
    "#performing log transform on the targets\n",
    "y_train = np.log1p(train_df.median_house_value.values)\n",
    "y_val = np.log1p(val_df.median_house_value.values)\n",
    "y_test = np.log1p(test_df.median_house_value.values)\n",
    "\n",
    "#deleting the target column from the data sets \n",
    "del train_df[\"median_house_value\"]\n",
    "del val_df['median_house_value']\n",
    "del test_df['median_house_value']\n",
    "\n",
    "#Combining training and validation dataf\n",
    "df_full_train = pd.concat([train_df, val_df])\n",
    "y_full_train = np.concatenate([y_train, y_val])\n",
    "\n",
    "#Training model and evaluationg on test data\n",
    "X_full_train = fill_zero(df_full_train)\n",
    "w_0, w= train_linear_regression_reg(X_full_train, y_full_train, r=0.01)\n",
    "X_test = fill_zero(test_df)\n",
    "y_pred = predict(X_test, w_0, w)\n",
    "score = rmse(y_test, y_pred)\n",
    "score\n"
   ]
  },
  {
   "cell_type": "markdown",
   "id": "c9eeab62-7ce5-46b1-a279-4e467ce58f95",
   "metadata": {},
   "source": [
    "The rmse on the test data is 0.35"
   ]
  }
 ],
 "metadata": {
  "kernelspec": {
   "display_name": "Python 3 (ipykernel)",
   "language": "python",
   "name": "python3"
  },
  "language_info": {
   "codemirror_mode": {
    "name": "ipython",
    "version": 3
   },
   "file_extension": ".py",
   "mimetype": "text/x-python",
   "name": "python",
   "nbconvert_exporter": "python",
   "pygments_lexer": "ipython3",
   "version": "3.9.7"
  }
 },
 "nbformat": 4,
 "nbformat_minor": 5
}
