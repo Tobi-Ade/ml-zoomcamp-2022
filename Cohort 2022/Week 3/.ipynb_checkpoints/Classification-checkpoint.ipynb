{
 "cells": [
  {
   "cell_type": "code",
   "execution_count": 1,
   "id": "08223ebd-646c-4fa1-ab6a-3f52c4c66d09",
   "metadata": {},
   "outputs": [],
   "source": [
    "\"\"\"\n",
    "importing neceaasry libraries \n",
    "\"\"\"\n",
    "import pandas as pd \n",
    "import numpy as np \n",
    "import seaborn as sns\n",
    "import matplotlib.pyplot as plt \n",
    "from sklearn.model_selection import train_test_split\n",
    "from sklearn.metrics import mutual_info_score\n",
    "from sklearn.linear_model import LogisticRegression\n",
    "from sklearn.feature_extraction import DictVectorizer\n",
    "from sklearn.metrics import accuracy_score\n",
    "from sklearn.linear_model import Ridge\n",
    "from sklearn.metrics import mean_squared_error\n",
    "import warnings\n",
    "\n",
    "warnings.filterwarnings('ignore')"
   ]
  },
  {
   "cell_type": "code",
   "execution_count": 2,
   "id": "17dba9ae-a855-4337-8f2f-e4570afa76f9",
   "metadata": {},
   "outputs": [],
   "source": [
    "\"\"\"\n",
    "reading the data\n",
    "\"\"\"\n",
    "df = pd.read_csv('housing.csv')"
   ]
  },
  {
   "cell_type": "markdown",
   "id": "3ffb6f78-f9ba-4bfb-b1e8-94c6e14077b3",
   "metadata": {},
   "source": [
    "# Data Preparation"
   ]
  },
  {
   "cell_type": "code",
   "execution_count": 3,
   "id": "80602a22-61ab-40a6-862e-f5f8cba1b2b4",
   "metadata": {},
   "outputs": [
    {
     "data": {
      "text/html": [
       "<div>\n",
       "<style scoped>\n",
       "    .dataframe tbody tr th:only-of-type {\n",
       "        vertical-align: middle;\n",
       "    }\n",
       "\n",
       "    .dataframe tbody tr th {\n",
       "        vertical-align: top;\n",
       "    }\n",
       "\n",
       "    .dataframe thead th {\n",
       "        text-align: right;\n",
       "    }\n",
       "</style>\n",
       "<table border=\"1\" class=\"dataframe\">\n",
       "  <thead>\n",
       "    <tr style=\"text-align: right;\">\n",
       "      <th></th>\n",
       "      <th>latitude</th>\n",
       "      <th>longitude</th>\n",
       "      <th>housing_median_age</th>\n",
       "      <th>total_rooms</th>\n",
       "      <th>total_bedrooms</th>\n",
       "      <th>population</th>\n",
       "      <th>households</th>\n",
       "      <th>median_income</th>\n",
       "      <th>median_house_value</th>\n",
       "      <th>ocean_proximity</th>\n",
       "      <th>rooms_per_household</th>\n",
       "      <th>bedrooms_per_room</th>\n",
       "      <th>population_per_household</th>\n",
       "      <th>above_average</th>\n",
       "    </tr>\n",
       "  </thead>\n",
       "  <tbody>\n",
       "    <tr>\n",
       "      <th>0</th>\n",
       "      <td>37.88</td>\n",
       "      <td>-122.23</td>\n",
       "      <td>41.0</td>\n",
       "      <td>880.0</td>\n",
       "      <td>129.0</td>\n",
       "      <td>322.0</td>\n",
       "      <td>126.0</td>\n",
       "      <td>8.3252</td>\n",
       "      <td>452600.0</td>\n",
       "      <td>NEAR BAY</td>\n",
       "      <td>6.984127</td>\n",
       "      <td>0.146591</td>\n",
       "      <td>2.555556</td>\n",
       "      <td>1</td>\n",
       "    </tr>\n",
       "    <tr>\n",
       "      <th>1</th>\n",
       "      <td>37.86</td>\n",
       "      <td>-122.22</td>\n",
       "      <td>21.0</td>\n",
       "      <td>7099.0</td>\n",
       "      <td>1106.0</td>\n",
       "      <td>2401.0</td>\n",
       "      <td>1138.0</td>\n",
       "      <td>8.3014</td>\n",
       "      <td>358500.0</td>\n",
       "      <td>NEAR BAY</td>\n",
       "      <td>6.238137</td>\n",
       "      <td>0.155797</td>\n",
       "      <td>2.109842</td>\n",
       "      <td>1</td>\n",
       "    </tr>\n",
       "    <tr>\n",
       "      <th>2</th>\n",
       "      <td>37.85</td>\n",
       "      <td>-122.24</td>\n",
       "      <td>52.0</td>\n",
       "      <td>1467.0</td>\n",
       "      <td>190.0</td>\n",
       "      <td>496.0</td>\n",
       "      <td>177.0</td>\n",
       "      <td>7.2574</td>\n",
       "      <td>352100.0</td>\n",
       "      <td>NEAR BAY</td>\n",
       "      <td>8.288136</td>\n",
       "      <td>0.129516</td>\n",
       "      <td>2.802260</td>\n",
       "      <td>1</td>\n",
       "    </tr>\n",
       "    <tr>\n",
       "      <th>3</th>\n",
       "      <td>37.85</td>\n",
       "      <td>-122.25</td>\n",
       "      <td>52.0</td>\n",
       "      <td>1274.0</td>\n",
       "      <td>235.0</td>\n",
       "      <td>558.0</td>\n",
       "      <td>219.0</td>\n",
       "      <td>5.6431</td>\n",
       "      <td>341300.0</td>\n",
       "      <td>NEAR BAY</td>\n",
       "      <td>5.817352</td>\n",
       "      <td>0.184458</td>\n",
       "      <td>2.547945</td>\n",
       "      <td>1</td>\n",
       "    </tr>\n",
       "    <tr>\n",
       "      <th>4</th>\n",
       "      <td>37.85</td>\n",
       "      <td>-122.25</td>\n",
       "      <td>52.0</td>\n",
       "      <td>1627.0</td>\n",
       "      <td>280.0</td>\n",
       "      <td>565.0</td>\n",
       "      <td>259.0</td>\n",
       "      <td>3.8462</td>\n",
       "      <td>342200.0</td>\n",
       "      <td>NEAR BAY</td>\n",
       "      <td>6.281853</td>\n",
       "      <td>0.172096</td>\n",
       "      <td>2.181467</td>\n",
       "      <td>1</td>\n",
       "    </tr>\n",
       "  </tbody>\n",
       "</table>\n",
       "</div>"
      ],
      "text/plain": [
       "   latitude  longitude  housing_median_age  total_rooms  total_bedrooms  \\\n",
       "0     37.88    -122.23                41.0        880.0           129.0   \n",
       "1     37.86    -122.22                21.0       7099.0          1106.0   \n",
       "2     37.85    -122.24                52.0       1467.0           190.0   \n",
       "3     37.85    -122.25                52.0       1274.0           235.0   \n",
       "4     37.85    -122.25                52.0       1627.0           280.0   \n",
       "\n",
       "   population  households  median_income  median_house_value ocean_proximity  \\\n",
       "0       322.0       126.0         8.3252            452600.0        NEAR BAY   \n",
       "1      2401.0      1138.0         8.3014            358500.0        NEAR BAY   \n",
       "2       496.0       177.0         7.2574            352100.0        NEAR BAY   \n",
       "3       558.0       219.0         5.6431            341300.0        NEAR BAY   \n",
       "4       565.0       259.0         3.8462            342200.0        NEAR BAY   \n",
       "\n",
       "   rooms_per_household  bedrooms_per_room  population_per_household  \\\n",
       "0             6.984127           0.146591                  2.555556   \n",
       "1             6.238137           0.155797                  2.109842   \n",
       "2             8.288136           0.129516                  2.802260   \n",
       "3             5.817352           0.184458                  2.547945   \n",
       "4             6.281853           0.172096                  2.181467   \n",
       "\n",
       "   above_average  \n",
       "0              1  \n",
       "1              1  \n",
       "2              1  \n",
       "3              1  \n",
       "4              1  "
      ]
     },
     "execution_count": 3,
     "metadata": {},
     "output_type": "execute_result"
    }
   ],
   "source": [
    "\"\"\"\n",
    "selecting relevant features \n",
    "\"\"\"\n",
    "\n",
    "features = ['latitude', 'longitude', 'housing_median_age', 'total_rooms', 'total_bedrooms',\n",
    "            'population', 'households', 'median_income', 'median_house_value', 'ocean_proximity']\n",
    "\n",
    "data = df[features]\n",
    "\n",
    "\"\"\"\n",
    "Feature Engineering\n",
    "\"\"\"\n",
    "data['rooms_per_household'] = (data['total_rooms'] / data['households'])\n",
    "\n",
    "data['bedrooms_per_room'] = (data['total_bedrooms'] / data['total_rooms'])\n",
    "\n",
    "data['population_per_household'] = (data['population'] / data['households'])\n",
    "\n",
    "data['above_average'] = (data['median_house_value'] > data['median_house_value'].mean()).astype('int')\n",
    "\n",
    "\n",
    "\n",
    "data.head()"
   ]
  },
  {
   "cell_type": "code",
   "execution_count": 4,
   "id": "f5b1b0e2-e081-4904-8861-24c69f3a652f",
   "metadata": {},
   "outputs": [
    {
     "data": {
      "text/plain": [
       "0    <1H OCEAN\n",
       "dtype: object"
      ]
     },
     "execution_count": 4,
     "metadata": {},
     "output_type": "execute_result"
    }
   ],
   "source": [
    "\"\"\"\n",
    "Mode Ocean Proximity\n",
    "\"\"\"\n",
    "data['ocean_proximity'].mode()"
   ]
  },
  {
   "cell_type": "code",
   "execution_count": 5,
   "id": "c608b28e-ce9e-4fd2-9733-6dd23c108d26",
   "metadata": {},
   "outputs": [],
   "source": [
    "\"\"\"\n",
    "Splitting the data into:\n",
    "Training data, Validation data and Testing data\n",
    "\"\"\"\n",
    "\n",
    "df_full_train, df_test = train_test_split(data, test_size=0.2, random_state=42)\n",
    "df_train, df_val = train_test_split(df_full_train, test_size=0.25, random_state=42)\n",
    "\n",
    "y_train = df_train.above_average.values \n",
    "y_val = df_val.above_average.values \n",
    "y_test = df_test.above_average.values \n",
    "\n",
    "del df_train['median_house_value']\n",
    "del df_val['median_house_value']\n",
    "del df_test['median_house_value']\n",
    "\n",
    "del df_train['above_average']\n",
    "del df_val['above_average']\n",
    "del df_test['above_average']"
   ]
  },
  {
   "cell_type": "code",
   "execution_count": 6,
   "id": "4a5b4abb-25f3-4584-a3e2-bc05c6cfca05",
   "metadata": {},
   "outputs": [
    {
     "data": {
      "text/plain": [
       "total_bedrooms  households    0.979728\n",
       "dtype: float64"
      ]
     },
     "execution_count": 6,
     "metadata": {},
     "output_type": "execute_result"
    }
   ],
   "source": [
    "\"\"\"\n",
    "Correlation Matrix for numerical columns \n",
    "\"\"\"\n",
    "numerical = ['latitude', 'longitude', 'housing_median_age', 'total_rooms', 'total_bedrooms',\n",
    "            'population', 'households', 'median_income', 'median_house_value', 'rooms_per_household',\n",
    "             'bedrooms_per_room', 'population_per_household']\n",
    "\n",
    "corr = data[numerical].corr().unstack().sort_values(ascending=False) \n",
    "corr[corr<1].iloc[:1]"
   ]
  },
  {
   "cell_type": "markdown",
   "id": "3616c3f9-f9b6-4ba6-b81c-2406a697b736",
   "metadata": {},
   "source": [
    "Features with the biggest correlation are: total_bedrooms and households"
   ]
  },
  {
   "cell_type": "code",
   "execution_count": 7,
   "id": "b9e6e6c0-1c68-4fdc-b402-2a972bedab15",
   "metadata": {},
   "outputs": [
    {
     "data": {
      "text/plain": [
       "ocean_proximity    0.1\n",
       "dtype: float64"
      ]
     },
     "execution_count": 7,
     "metadata": {},
     "output_type": "execute_result"
    }
   ],
   "source": [
    "\"\"\"\n",
    "Calculating mutual info score\n",
    "\"\"\"\n",
    "categorical = ['ocean_proximity']\n",
    "\n",
    "def mutual_score(col):\n",
    "    \"\"\"\n",
    "    This function calculates the mutual info score between the target column and a specified categorical column\n",
    "    params: categorical column\n",
    "    returns: mutual info score\n",
    "    rtype: float\n",
    "    \"\"\"\n",
    "    mi = mutual_info_score(y_train, col)\n",
    "    return round(mi, 2)\n",
    "\n",
    "df_train[categorical].apply(mutual_score)"
   ]
  },
  {
   "cell_type": "code",
   "execution_count": 8,
   "id": "cdf63d50-f7b6-4ad4-923a-d9e0d6b3d4ec",
   "metadata": {},
   "outputs": [
    {
     "name": "stdout",
     "output_type": "stream",
     "text": [
      "0.84\n"
     ]
    }
   ],
   "source": [
    "\"\"\"\n",
    "training and testing the model\n",
    "\"\"\"\n",
    "#DictVectorizer performs one hot enconding on categorical columns\n",
    "dv = DictVectorizer(sparse=False)\n",
    "\n",
    "#creating an instance of the logistic regression model\n",
    "model = LogisticRegression(solver=\"liblinear\", C=1.0, max_iter=1000, random_state=42)\n",
    "\n",
    "#convert train data to dictionary\n",
    "train_dict = df_train.to_dict(orient='records')\n",
    "\n",
    "#one hot encoding\n",
    "X_train = dv.fit_transform(train_dict)\n",
    "\n",
    "#Training the model \n",
    "model.fit(X_train, y_train)\n",
    "\n",
    "#convert validation data to dictionary\n",
    "val_dict = df_val.to_dict(orient='records')\n",
    "\n",
    "#one hot encoding\n",
    "X_val = dv.transform(val_dict)\n",
    "\n",
    "#predicting for the validation data\n",
    "y_pred = model.predict(X_val)\n",
    "\n",
    "#checking the accuracy\n",
    "score = round(accuracy_score(y_pred, y_val),2)\n",
    "print(score)"
   ]
  },
  {
   "cell_type": "code",
   "execution_count": 9,
   "id": "89aba6b9-8c14-428a-b3cb-edb9425c301e",
   "metadata": {},
   "outputs": [
    {
     "name": "stdout",
     "output_type": "stream",
     "text": [
      "latitude: score: 0.8323643410852714,        difference: 0.007635658914728616\n",
      "longitude: score: 0.8318798449612403,        difference: 0.008120155038759624\n",
      "housing_median_age: score: 0.8316375968992248,        difference: 0.008362403100775184\n",
      "total_rooms: score: 0.8362403100775194,        difference: 0.003759689922480547\n",
      "total_bedrooms: score: 0.8372093023255814,        difference: 0.0027906976744185297\n",
      "population: score: 0.8263081395348837,        difference: 0.013691860465116279\n",
      "households: score: 0.8340600775193798,        difference: 0.005939922480620141\n",
      "median_income: score: 0.7853682170542635,        difference: 0.05463178294573645\n",
      "ocean_proximity: score: 0.8202519379844961,        difference: 0.01974806201550383\n",
      "rooms_per_household: score: 0.8352713178294574,        difference: 0.004728682170542564\n",
      "bedrooms_per_room: score: 0.8362403100775194,        difference: 0.003759689922480547\n",
      "population_per_household: score: 0.8357558139534884,        difference: 0.0042441860465115555\n"
     ]
    }
   ],
   "source": [
    "\"\"\"\n",
    "Training and testing by feature omission\n",
    "\"\"\"\n",
    "real_score = score\n",
    "columns = df_train.columns.to_list()\n",
    "\n",
    "for col in columns:\n",
    "    cols = columns.copy()\n",
    "    cols.remove(col)\n",
    "    train_dict = df_train[cols].to_dict(orient='records')\n",
    "    X_train = dv.fit_transform(train_dict)\n",
    "    model = LogisticRegression(solver=\"liblinear\", C=1.0, max_iter=1000, random_state=42)\n",
    "\n",
    "    model.fit(X_train, y_train)\n",
    "    \n",
    "    val_dict = df_val[cols].to_dict(orient='records')\n",
    "    X_val = dv.transform(val_dict)\n",
    "    y_pred = model.predict(X_val)\n",
    "    \n",
    "    score = accuracy_score(y_pred, y_val)\n",
    "    print(f\"{col}: score: {score},        difference: {real_score - score}\")"
   ]
  },
  {
   "cell_type": "markdown",
   "id": "0a3f335a-45bd-4b21-84eb-0beed5020440",
   "metadata": {},
   "source": [
    "total rooms has the smallest difference "
   ]
  },
  {
   "cell_type": "code",
   "execution_count": 10,
   "id": "40070438-940c-49d4-a835-3a10761dacc7",
   "metadata": {},
   "outputs": [
    {
     "name": "stdout",
     "output_type": "stream",
     "text": [
      "The score for tune parameter 0: 0.525\n",
      "The score for tune parameter 0.01: 0.525\n",
      "The score for tune parameter 0.1: 0.525\n",
      "The score for tune parameter 1: 0.525\n",
      "The score for tune parameter 10: 0.525\n"
     ]
    }
   ],
   "source": [
    "\"\"\"\n",
    "Using Ridge Regression to check accuracy\n",
    "\"\"\"\n",
    "#Log transformation of target column\n",
    "df['median_house_value'] = np.log1p(df['median_house_value'])\n",
    "\n",
    "#splitting the data\n",
    "df_full_train, df_test = train_test_split(df, test_size=0.2, random_state=42)\n",
    "df_train, df_val = train_test_split(df_full_train, test_size=0.25, random_state=42)\n",
    "\n",
    "y_train = df_train['median_house_value'].values\n",
    "y_val = df_val['median_house_value'].values\n",
    "y_test = df_test['median_house_value'].values\n",
    "\n",
    "del df_train['median_house_value']\n",
    "del df_test['median_house_value']\n",
    "del df_val['median_house_value']\n",
    "\n",
    "#preparing data for training and testing\n",
    "dv = DictVectorizer(sparse=False)\n",
    "\n",
    "train_dict = df_train.to_dict(orient='records')\n",
    "\n",
    "X_train = dv.fit_transform(train_dict)\n",
    "\n",
    "val_dict = df_val.to_dict(orient='records')\n",
    "X_val = dv.transform(val_dict)\n",
    "\n",
    "#Calculating rmse for all alphas\n",
    "mse = mean_squared_error\n",
    "\n",
    "tune_param = [0, 0.01, 0.1, 1, 10]\n",
    "for a in tune_param:    \n",
    "    model = Ridge(alpha=a, solver=\"sag\", random_state=42)\n",
    "    model.fit(X_train, y_train)\n",
    "    y_pred = model.predict(X_val)    \n",
    "    score = np.sqrt(mse(y_pred, y_val))\n",
    "        \n",
    "    print(f\"The score for tune parameter {a}: {round(score,3)}\")\n",
    "\n",
    "\n"
   ]
  }
 ],
 "metadata": {
  "kernelspec": {
   "display_name": "Python 3 (ipykernel)",
   "language": "python",
   "name": "python3"
  },
  "language_info": {
   "codemirror_mode": {
    "name": "ipython",
    "version": 3
   },
   "file_extension": ".py",
   "mimetype": "text/x-python",
   "name": "python",
   "nbconvert_exporter": "python",
   "pygments_lexer": "ipython3",
   "version": "3.9.7"
  }
 },
 "nbformat": 4,
 "nbformat_minor": 5
}
