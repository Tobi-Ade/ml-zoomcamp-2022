{
 "cells": [
  {
   "cell_type": "code",
   "execution_count": 1,
   "id": "a8976115-b125-4d52-8c4d-85b80097750f",
   "metadata": {},
   "outputs": [],
   "source": [
    "\"\"\"\n",
    "importing necessary libraries\n",
    "\"\"\"\n",
    "import pandas as pd\n",
    "import numpy as np\n",
    "import argparse\n",
    "import pickle \n",
    "from sklearn.feature_extraction import DictVectorizer\n",
    "from sklearn.linear_model import LogisticRegression\n",
    "from sklearn.model_selection import train_test_split\n",
    "from sklearn.metrics import roc_auc_score\n",
    "import warnings\n",
    "warnings.filterwarnings('ignore')"
   ]
  },
  {
   "cell_type": "code",
   "execution_count": 2,
   "id": "23ca9d80-e29a-4e43-8079-79f9c3463e3d",
   "metadata": {},
   "outputs": [
    {
     "name": "stdout",
     "output_type": "stream",
     "text": [
      "pipenv, version 2022.10.4\n",
      "\n"
     ]
    }
   ],
   "source": [
    "\"\"\"\n",
    "installing pipenv and checking version \n",
    "\"\"\"\n",
    "# !pip install pipenv \n",
    "\n",
    "!pipenv --version"
   ]
  },
  {
   "cell_type": "code",
   "execution_count": 3,
   "id": "bddb811c-0231-40e3-a7b6-eee514be65de",
   "metadata": {},
   "outputs": [
    {
     "name": "stdout",
     "output_type": "stream",
     "text": [
      "first hash for scikit-learn in pipfile.lock:sha256:1c8fecb7c9984d9ec2ea48898229f98aad681a0873e0935f2b7f724fbce4a047\n"
     ]
    }
   ],
   "source": [
    "\"\"\"\n",
    "Installing scikit-learn with pipenv \n",
    "\"\"\"\n",
    "#!pipenv install scikit-learn\n",
    "\n",
    "\n",
    "scikit_learn_hash = \"sha256:1c8fecb7c9984d9ec2ea48898229f98aad681a0873e0935f2b7f724fbce4a047\"\n",
    "print(f\"first hash for scikit-learn in pipfile.lock:{scikit_learn_hash}\")\n"
   ]
  },
  {
   "cell_type": "code",
   "execution_count": 4,
   "id": "9105fdd0-623c-4329-8092-a1a68c235ed6",
   "metadata": {},
   "outputs": [],
   "source": [
    "\"\"\"\n",
    "Loading prediction objects\n",
    "\"\"\"\n",
    "with open('model1.bin', 'rb') as file1:\n",
    "    model = pickle.load(file1)\n",
    "\n",
    "with open('dv.bin', 'rb') as file2:\n",
    "    dv = pickle.load(file2)"
   ]
  },
  {
   "cell_type": "code",
   "execution_count": 5,
   "id": "068265a9-4dac-48e6-a279-e4690d384b89",
   "metadata": {},
   "outputs": [],
   "source": [
    "\"\"\"\n",
    "Scoring a client\n",
    "\"\"\"\n",
    "client = {\"reports\": 0, \"share\": 0.001694, \"expenditure\": 0.12, \"owner\": \"yes\"}\n",
    "\n",
    "X = dv.transform(client)\n",
    "y_pred = model.predict_proba(X)[0, 1]"
   ]
  },
  {
   "cell_type": "code",
   "execution_count": 6,
   "id": "6788d7db-d8a8-4700-a863-82c2fed315ca",
   "metadata": {},
   "outputs": [
    {
     "name": "stdout",
     "output_type": "stream",
     "text": [
      "score: 0.162\n"
     ]
    }
   ],
   "source": [
    "print(f\"score: {round(y_pred, 3)}\")"
   ]
  }
 ],
 "metadata": {
  "kernelspec": {
   "display_name": "Python 3 (ipykernel)",
   "language": "python",
   "name": "python3"
  },
  "language_info": {
   "codemirror_mode": {
    "name": "ipython",
    "version": 3
   },
   "file_extension": ".py",
   "mimetype": "text/x-python",
   "name": "python",
   "nbconvert_exporter": "python",
   "pygments_lexer": "ipython3",
   "version": "3.9.7"
  }
 },
 "nbformat": 4,
 "nbformat_minor": 5
}
